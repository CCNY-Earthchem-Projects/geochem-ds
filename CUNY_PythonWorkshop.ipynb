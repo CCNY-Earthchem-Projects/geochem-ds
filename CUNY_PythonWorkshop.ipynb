{
  "nbformat": 4,
  "nbformat_minor": 0,
  "metadata": {
    "colab": {
      "provenance": [],
      "authorship_tag": "ABX9TyNGPJjhw63ds7mWjycXhTpL",
      "include_colab_link": true
    },
    "kernelspec": {
      "name": "python3",
      "display_name": "Python 3"
    },
    "language_info": {
      "name": "python"
    }
  },
  "cells": [
    {
      "cell_type": "markdown",
      "metadata": {
        "id": "view-in-github",
        "colab_type": "text"
      },
      "source": [
        "<a href=\"https://colab.research.google.com/github/CCNY-Earthchem-Projects/geochem-ds/blob/main/CUNY_PythonWorkshop.ipynb\" target=\"_parent\"><img src=\"https://colab.research.google.com/assets/colab-badge.svg\" alt=\"Open In Colab\"/></a>"
      ]
    },
    {
      "cell_type": "markdown",
      "source": [
        "## Install NumPy for simple maths, Pandas for data-tables, and GMT for mapping"
      ],
      "metadata": {
        "id": "D3JFv8NPbSUg"
      }
    },
    {
      "cell_type": "code",
      "execution_count": null,
      "metadata": {
        "id": "BM-oZ59hafkm"
      },
      "outputs": [],
      "source": [
        "import numpy as np\n",
        "import pandas as pd\n",
        "!pip install -q condacolab\n",
        "import condacolab\n",
        "condacolab.install()\n",
        "!mamba install pygmt\n",
        "import pygmt\n",
        "from matplotlib import pyplot as plt\n",
        "%matplotlib inline\n",
        "%config InlineBackend.figure_format = 'retina'\n",
        "\n",
        "from matplotlib import rc\n",
        "rc('font',**{'size':14})"
      ]
    },
    {
      "cell_type": "markdown",
      "source": [
        "##Let's analyze some data\n",
        "Here you will open the Excel spreadsheet directly from Sarah Shi's GitHub. "
      ],
      "metadata": {
        "id": "-ydXsym4cnel"
      }
    },
    {
      "cell_type": "code",
      "source": [
        "df = df = pd.read_csv(\"https://raw.githubusercontent.com/sarahshi/earthchem-teaching/main/ClassandLehnertMORB.csv\")"
      ],
      "metadata": {
        "id": "fespD-EbclC4"
      },
      "execution_count": null,
      "outputs": []
    },
    {
      "cell_type": "code",
      "source": [
        "df.head()"
      ],
      "metadata": {
        "id": "qzxSPjAFdfew"
      },
      "execution_count": null,
      "outputs": []
    },
    {
      "cell_type": "code",
      "source": [
        "df.columns"
      ],
      "metadata": {
        "id": "Ep_MgLsldoo4"
      },
      "execution_count": null,
      "outputs": []
    },
    {
      "cell_type": "markdown",
      "source": [
        "To extract particular columns of data you can reference them in two ways as follows:"
      ],
      "metadata": {
        "id": "FLNldIT_eDsM"
      }
    },
    {
      "cell_type": "code",
      "source": [
        "df['SiO2']"
      ],
      "metadata": {
        "id": "M1LEMciAeOa3"
      },
      "execution_count": null,
      "outputs": []
    },
    {
      "cell_type": "code",
      "source": [
        "df.SiO2"
      ],
      "metadata": {
        "id": "am_Qy7IaeVT0"
      },
      "execution_count": null,
      "outputs": []
    },
    {
      "cell_type": "markdown",
      "source": [
        "2. Let's plot the consolidated data. Start by making an x-y plot of longitude on the x-axis vs. latitude on the y-axis"
      ],
      "metadata": {
        "id": "ePxukvAIelp9"
      }
    },
    {
      "cell_type": "code",
      "source": [
        "grid = pygmt.datasets.load_earth_relief() # loads earth relief\n",
        "fig = pygmt.Figure() # defines a figure\n",
        "fig.subplot(nrows = 1, ncols = 1, figsize = ('20c', '15c')) # defines a plot with size\n",
        "# Plot the earth relief grid on Cylindrical Stereographic projection, masking\n",
        "fig.basemap(region=\"g\", projection=\"Cyl_stere/0/-20/15c\", frame=True) # creates the base projection map\n",
        "fig.grdimage(grid=grid, cmap=\"gray\", transparency=40,) # sets the background depiction of bathymetry\n",
        "fig.coast(land=\"#666666\") # creates continents \n",
        "\n",
        "pygmt.makecpt(cmap=\"viridis\", series=[df.Elevation.min(), df.Elevation.max()]) # defines a colormap with color ranging from minimum to maximum bathymetric elevation \n",
        "fig.plot(x=df.Longitude, y=df.Latitude, style=\"c0.25c\", # plot x and y, with color of scatter points showing bathymetric elevation \n",
        "    fill=df.Elevation,\n",
        "    cmap=True, pen='black', transparency=40,)\n",
        "fig.colorbar(frame='af+l\"Axial Depth (m)\"') # create colorbar \n",
        "fig.show()"
      ],
      "metadata": {
        "id": "8yB9Udgqe27q"
      },
      "execution_count": null,
      "outputs": []
    },
    {
      "cell_type": "markdown",
      "source": [
        "A. Does this plot look familiar? \n",
        "Can you identify the Mid-Atlantic Ridge and the East Pacific Rise? \n",
        "These are the two best studied mid-ocean ridges."
      ],
      "metadata": {
        "id": "w4_gS2c6fist"
      }
    },
    {
      "cell_type": "markdown",
      "source": [
        "B. What is plotted on the x-axis? and y-axid? What do the colors of the points represent?"
      ],
      "metadata": {
        "id": "4PJMrcqEf-Gq"
      }
    },
    {
      "cell_type": "markdown",
      "source": [
        "3. Let's visualize  𝑆𝑖𝑂2  (y-axis) vs.  𝑀𝑔𝑂  (x-axis), and  𝐹𝑒𝑂  (y-axis) vs.  𝑀𝑔𝑂  (x-axis). We can do this by using the matplotlib package, which we imported at the start. I show below how you plot  𝑆𝑖𝑂2  vs.  𝑀𝑔𝑂 , as an example."
      ],
      "metadata": {
        "id": "-fsyf9_Pg39P"
      }
    },
    {
      "cell_type": "code",
      "source": [
        "plt.figure(figsize=(6, 4)) # define figure and figure size, width vs. height\n",
        "plt.scatter(df.MgO, df.SiO2, edgecolor='k', linewidth = 0.5, alpha=0.75) # scatter (x, y), edgecolor and linewidth define the scatter outlines, alpha defines transparency. \n",
        "plt.xlabel('MgO (wt.%)') # label x-axis\n",
        "plt.ylabel('SiO2 (wt.%)') # label y-axis\n",
        "plt.xlim([4, 12]) # set x-axis range\n",
        "plt.ylim([46, 56]) # set y-axis range. \n",
        "plt.show()"
      ],
      "metadata": {
        "id": "6T0q5JhPf6Nq"
      },
      "execution_count": null,
      "outputs": []
    },
    {
      "cell_type": "markdown",
      "source": [
        "A. Now make the corresponding plot for  𝐹𝑒𝑂  vs.  𝑀𝑔𝑂 . You can copy/paste the code you used previously and change the relevant array. You will need to change the y-axis range. If you don't know what is a reasonable range you can query the dataframe using the following command."
      ],
      "metadata": {
        "id": "FnKtqli-hYYT"
      }
    },
    {
      "cell_type": "code",
      "source": [
        "max_FeO,min_FeO = df.FeO.max(),df.FeO.min() #finds the max/min FeO values in your dataset\n",
        "max_FeO,min_FeO #prints the values"
      ],
      "metadata": {
        "id": "TIJxnUvQii-h"
      },
      "execution_count": null,
      "outputs": []
    },
    {
      "cell_type": "markdown",
      "source": [
        "Now you can make your FeO vs. MgO plot. "
      ],
      "metadata": {
        "id": "xDCHe_SVhho_"
      }
    },
    {
      "cell_type": "markdown",
      "source": [
        "B. According to your plot and ignoring outlying samples, what is the range in  𝑆𝑖𝑂2  of the main cluster of MORB whole rocks and glasses?"
      ],
      "metadata": {
        "id": "cXLX6F5ajHyR"
      }
    },
    {
      "cell_type": "markdown",
      "source": [
        "C. Ignoring outlying samples, what seems to be the range of MgO for the global MORB dataset?"
      ],
      "metadata": {
        "id": "a8L8YLnUjW0L"
      }
    },
    {
      "cell_type": "markdown",
      "source": [
        "D. What is the range in  𝐹𝑒𝑂?"
      ],
      "metadata": {
        "id": "8iw2Ls_SjdWM"
      }
    },
    {
      "cell_type": "markdown",
      "source": [
        "E. What is the most likely cause for most of the geochemical variation in  𝑀𝑔𝑂  and  𝑆𝑖𝑂2 ?"
      ],
      "metadata": {
        "id": "N-ZaiM-LjmJw"
      }
    },
    {
      "cell_type": "markdown",
      "source": [
        "4. Plot  𝑆𝑖𝑂2  (y-axis) vs.  𝑀𝑔𝑂  (x-axis), and  𝐹𝑒𝑂  (y-axis) vs.  𝑀𝑔𝑂  (x-axis) but now with the scatter points colored by axial depth."
      ],
      "metadata": {
        "id": "6tvJFJKbjwFY"
      }
    },
    {
      "cell_type": "code",
      "source": [
        "fig,ax = plt.subplots(figsize=(5,5))\n",
        "scatter_scale = ax.scatter(df.MgO, df.SiO2, linewidth = 0.5, alpha=0.75,\n",
        "            c=df.Elevation, cmap = 'viridis')\n",
        "min_x, max_x = df.MgO.min(), df.MgO.max()\n",
        "min_y, max_y = df.SiO2.min(), df.SiO2.max()\n",
        "ax.set_xlim([min_x, max_x])\n",
        "ax.set_ylim([min_y, max_y])\n",
        "ax.set_xlabel(\"MgO\")\n",
        "ax.set_ylabel(\"SiO2\")\n",
        "fig.colorbar(scatter_scale, orientation='horizontal', label ='Axial Depth (m)', pad=0.2)\n"
      ],
      "metadata": {
        "id": "N1S1Br6ZlWO5"
      },
      "execution_count": null,
      "outputs": []
    },
    {
      "cell_type": "code",
      "source": [
        "fig,ax = plt.subplots(figsize=(5,5))\n",
        "scatter_scale = ax.scatter(df.FeO, df.SiO2, linewidth = 0.5, alpha=0.75,\n",
        "            c=df.Elevation, cmap = 'viridis')\n",
        "min_x, max_x = df.FeO.min(), df.FeO.max()\n",
        "min_y, max_y = df.SiO2.min(), df.SiO2.max()\n",
        "ax.set_xlim([min_x, max_x])\n",
        "ax.set_ylim([min_y, max_y])\n",
        "ax.set_xlabel(\"FeO\")\n",
        "ax.set_ylabel(\"SiO2\")\n",
        "fig.colorbar(scatter_scale, orientation='horizontal', label ='Axial Depth (m)', pad=0.2)\n"
      ],
      "metadata": {
        "id": "b5_U5bbOsufM"
      },
      "execution_count": null,
      "outputs": []
    },
    {
      "cell_type": "markdown",
      "source": [
        "5. We will now focus on the geochemical variation among the more primitive MORB liquids.\n",
        "Klein and Langmuir (1987) observed that low-pressure fractionation of a primitive basaltic liquid within an individual volcanic suite (or at a specific location) results in a more-or-less linear array (\"liquid lines of descent\") on major-element variation diagrams, at least over certain ranges of MgO. \n",
        "\n",
        "  Because their fractionating mineral assemblages are similar, the slopes of these liquid lines of descent for different igneous suites (or locations) are more or less sub-parallel to one another. If the slope of these linear variation arrays is known (and they are) it should be feasible to determine \"calculated\" values of a particular oxide (from different suites or locations) at a constant value of  𝑀𝑔𝑂. \n",
        "\n",
        "  We can use the variation in  𝑁𝑎 , rather than the variation due to varying melt proportions. To approximate a fairly primitive basaltic liquid composition, a value of  𝑀𝑔𝑂  = 8 wt.% is arbitrarily chosen for the value at which the \"calculated\" element-oxides are compared. You will perform this correction now. "
      ],
      "metadata": {
        "id": "xbhSuASStHH1"
      }
    },
    {
      "cell_type": "markdown",
      "source": [
        "Create additional dataframe columns to define the following variables: \n",
        "\n",
        "$\\frac{CaO}{Al_2O_3} = \\frac{CaO (wt.\\%)}{Al_2O_3 (wt.\\%)}$\n",
        "\n",
        "$Na_{8.0} = Na_2O + 0.373*MgO - 2.98$\n",
        "\n",
        "The equation for $Na_{8.0}$ is from [(Klein and Langmuir, 1987)](https://agupubs.onlinelibrary.wiley.com/doi/10.1029/JB092iB08p08089). $\\frac{CaO}{Al_2O_3}$ does not change much with fractionation, so does not need to be corrected. I show below how to create a new column for $\\frac{CaO}{Al_2O_3}$ and for $Na_{8.0}$. There is a simplicity to the dataframe structure that allows you to apply the same mathematical operation to all rows. \n"
      ],
      "metadata": {
        "id": "rTKs00j-upWa"
      }
    },
    {
      "cell_type": "code",
      "source": [
        "df['CaO_Al2O3'] = df['CaO'] / df['Al2O3'] # I create the new column of the dataframe called 'CaO_Al2O3' by placing that variable in square braces, then define how to perform division. \n",
        "df['CaO_Al2O3']"
      ],
      "metadata": {
        "id": "IiBAuP1CvEI0"
      },
      "execution_count": null,
      "outputs": []
    },
    {
      "cell_type": "code",
      "source": [
        "# Calculate $Na_{8.0}$ here. \n",
        "\n",
        "df['Na8'] = df['Na2O'] + 0.373*df['MgO'] - 2.98\n",
        "\n",
        "df['Na8']"
      ],
      "metadata": {
        "id": "6c770tfsvGbW"
      },
      "execution_count": null,
      "outputs": []
    },
    {
      "cell_type": "markdown",
      "source": [
        "##### 5. $Fe_{8.0}$, $Na_{8.0}$, and $\\frac{CaO}{Al_2O_3}$ are not meaningful for all values of $MgO$. Select the range of 5.0-8.5 wt.% $MgO$, for which this calculation is valid and meaningful. Plot $Fe_{8.0}$, $Na_{8.0}$, and $\\frac{CaO}{Al_2O_3}$ (y-axis) versus bathymetric elevation for values of MgO in this range. I will demonstrate how to select a portion of your dataframe for which this is true. "
      ],
      "metadata": {
        "id": "LaMfAyv8vSU4"
      }
    },
    {
      "cell_type": "code",
      "source": [
        "# Calculate $Na_{8.0}$ here. \n",
        "\n",
        "df['Na8'] = df['Na2O'] + 0.373*df['MgO'] - 2.98\n",
        "\n",
        "df['Na8']"
      ],
      "metadata": {
        "id": "TYcatKZ4vOnH"
      },
      "execution_count": null,
      "outputs": []
    },
    {
      "cell_type": "code",
      "source": [
        "# I select a portion of the dataframe where MgO is between 5.0 and 8.5 wt.%. \n",
        "\n",
        "df_lim = df[df.MgO.between(5.0, 8.5)]\n",
        "\n",
        "df_lim"
      ],
      "metadata": {
        "id": "mwmE4T82ZB7t"
      },
      "execution_count": null,
      "outputs": []
    },
    {
      "cell_type": "code",
      "source": [
        "# Plot the figures here. I'll show the one for Na8.0. \n",
        "\n",
        "plt.figure(figsize=(6, 4)) # define figure and figure size, width vs. height\n",
        "plt.scatter(df.Na8, df.Elevation, edgecolor='k', linewidth = 0.5, alpha=0.75) # scatter (x, y), edgecolor and linewidth define the scatter outlines, alpha defines transparency. \n",
        "plt.xlabel('Na8.0') # label x-axis\n",
        "plt.ylabel('Axial Depth (m)') # label y-axis\n",
        "plt.xlim([1, 4.5]) # set x-axis range\n",
        "plt.ylim([-6000, 0]) # set y-axis range. \n",
        "plt.show()"
      ],
      "metadata": {
        "id": "SIAw8K1xvY8w"
      },
      "execution_count": null,
      "outputs": []
    },
    {
      "cell_type": "markdown",
      "source": [
        "6. Do MORBs display global geochemical variations beyond what should be expected from fractionation? What are the magnitude of those variations? Are they in excess of the analytical uncertainties (~0.5 wt.%)?\n"
      ],
      "metadata": {
        "id": "bq-7zCT0bTxP"
      }
    },
    {
      "cell_type": "markdown",
      "source": [
        "7. Are the axial traces of the world's mid-ocean ridges all at the same depth below sea level?"
      ],
      "metadata": {
        "id": "SM4z08tJbVNj"
      }
    },
    {
      "cell_type": "markdown",
      "source": [
        "8. Formulate a hypothesis relating the elevation of a mid-ocean ridge segment and rates of melting in the underlying mantle source."
      ],
      "metadata": {
        "id": "dB6No8PFbYe6"
      }
    },
    {
      "cell_type": "markdown",
      "source": [
        "##### 9. If Na is largely an incompatible element (meaning it does not want to remain in the crystal and wants to enter melt) during partial melting of the mantle, does your plot of $Na_{8.0}$ vs. elevation support your hypothesis in question 8 above?\n"
      ],
      "metadata": {
        "id": "79JP8TMybm_W"
      }
    },
    {
      "cell_type": "markdown",
      "source": [
        "##### 12. We can now look to paired studies of geophysics and geochemistry to further understand this problem. Shear wave velocities ($V_s$) are proxies for mantle potential temperatures, representing the temperature the mantle would have at the surface if it ascended along an adiabat without undergoing melting. This was a concept proposed by [McKenzie & Bickle, 1988](https://academic.oup.com/petrology/article-abstract/29/3/625/1432023) to compare mantle temperatures at different localities. Look at the figure below from the [Dalton et al., 2014](https://www.science.org/doi/full/10.1126/science.1249466?casa_token=UxKZ9f8aOVUAAAAA%3A0MvoZnwoItZMA1wm0VhST88T-BCAX6ghGdl3h7OwWl2ZluXh2SKL1ek_409iN7HUa2btCIudbtfqXw) study. $Na_{8.0}$ is replaced by $Na_{90}$, which similarly represents a primitive basaltic liquid, but instead with $Fo$=90 mol.%. Please interpret the physical meaning of this figure. What seismic speeds and potential temperatures do you find with low sodium and high sodium content?\n",
        "\n",
        "![daltonetal2014_vs](https://raw.githubusercontent.com/sarahshi/earthchem-teaching/main/figures/daltonetal2014_vs.png)\n"
      ],
      "metadata": {
        "id": "F_iqW49RcD-b"
      }
    },
    {
      "cell_type": "markdown",
      "source": [
        "##### 13. Finally, let's put all of this together. The [Dalton et al., 2014](https://www.science.org/doi/full/10.1126/science.1249466?casa_token=UxKZ9f8aOVUAAAAA%3A0MvoZnwoItZMA1wm0VhST88T-BCAX6ghGdl3h7OwWl2ZluXh2SKL1ek_409iN7HUa2btCIudbtfqXw) study further analyze axial depths and their relationship to potential temperature (or really, shear wave velocity, $V_s$). We plotted the MORB samples and their corresponding axial depths with PyGMT above. Do the potential temperatures pair with depth? If so, why is this? (Hint: Think about crustal thicknesses, isostasy, Archimedes' principal -- how might these explain the observable)\n",
        "\n",
        "![daltonetal2014_ridge](https://raw.githubusercontent.com/sarahshi/earthchem-teaching/main/figures/daltonetal2014_ridge.png)\n"
      ],
      "metadata": {
        "id": "LB2sW8LMcF0f"
      }
    }
  ]
}