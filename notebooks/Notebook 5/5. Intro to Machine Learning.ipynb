{
 "cells": [
  {
   "cell_type": "markdown",
   "id": "780d4354-2f54-4809-866a-78143878b4d8",
   "metadata": {},
   "source": [
    "# Notebook #5: Intro to Machine Learning"
   ]
  },
  {
   "cell_type": "markdown",
   "id": "79f57b07-69a0-426c-bfbf-3c9e84e92e54",
   "metadata": {},
   "source": [
    "## Table of Contents:\n",
    "###  1) What is Machine Learning?\n",
    "###  2) Basic ideas of Machine Learning in Python\n",
    "###  3) Logistic Regression\n",
    "###  4) Random Forest\n",
    "###  5) Support Vector Machines\n",
    "###  6) Neural Networks"
   ]
  },
  {
   "cell_type": "markdown",
   "id": "a1d5cb64-8530-4a93-9577-6ada12605a38",
   "metadata": {},
   "source": [
    "###  1) What is Machine Learning?"
   ]
  },
  {
   "cell_type": "markdown",
   "id": "d549d1b7-35bb-4a19-95c9-7a3da3c9effb",
   "metadata": {},
   "source": [
    "#### Machine learning is a subset of AI which focuses on the use of data and algorithms to imitate the way that humans learn, gradually improving its accuracy to solve growingly complex problems."
   ]
  },
  {
   "cell_type": "markdown",
   "id": "e75304e4-a8a4-4def-af02-41fb712c095c",
   "metadata": {},
   "source": [
    "#### Machine learning is an important component of the growing field of data science. The models we make with ML are trained to make classifications or predictions, and to uncover key insights in data mining projects. These insights subsequently drive decision making within applications and businesses, ideally impacting key growth metrics."
   ]
  },
  {
   "cell_type": "markdown",
   "id": "36f50bcd-7e98-4193-90cb-9c70fa96b2ec",
   "metadata": {},
   "source": [
    "###  2) Basic ideas of Machine Learning in Python"
   ]
  },
  {
   "cell_type": "markdown",
   "id": "8a3c1818-af7f-4c79-b649-18766a459472",
   "metadata": {},
   "source": [
    "#### There's 4 main kinds of machine learning: supervised learning, semi-supervised learning, unsupervised learning, and reinforcement learning.\n",
    "\n",
    "#### Supervised learning examples:\n",
    "#### -Classification\n",
    "#### -Regression\n",
    "\n",
    "#### Unsupervised learning examples:\n",
    "#### -Clustering\n",
    "#### -Association\n",
    "#### -Dimensionality Reduction"
   ]
  },
  {
   "cell_type": "markdown",
   "id": "ed63e0e4-c327-4270-a2b8-264129876525",
   "metadata": {},
   "source": [
    "#### Some of the Python tools we'll use are\n",
    "\n",
    "#### - NumPy\n",
    "#### - SciPy\n",
    "#### - Scikit-learn\n",
    "#### - TensorFlow\n",
    "#### - And many more..."
   ]
  },
  {
   "cell_type": "markdown",
   "id": "fac71a3c-2f27-493c-b38a-c43a9c8e4bc0",
   "metadata": {},
   "source": [
    "###  3) Logistic Regression"
   ]
  },
  {
   "cell_type": "code",
   "execution_count": null,
   "id": "b3950087-3bec-4aeb-8145-22dc78fa4612",
   "metadata": {},
   "outputs": [],
   "source": []
  },
  {
   "cell_type": "markdown",
   "id": "faedf23b-61fd-4dc9-b695-4003b2923557",
   "metadata": {},
   "source": [
    "###  4) Random Forest"
   ]
  },
  {
   "cell_type": "code",
   "execution_count": null,
   "id": "5bfe585a-7a47-4b44-9f0f-e1e7bbdfe48d",
   "metadata": {},
   "outputs": [],
   "source": []
  },
  {
   "cell_type": "markdown",
   "id": "d95f2bf1-f80c-4a1e-851a-725ff436a12c",
   "metadata": {},
   "source": [
    "###  5) Support Vector Machines"
   ]
  },
  {
   "cell_type": "code",
   "execution_count": null,
   "id": "a7d67563-1924-4547-ba64-2f8f248e92d6",
   "metadata": {},
   "outputs": [],
   "source": []
  },
  {
   "cell_type": "markdown",
   "id": "081008b5-c43b-448d-950a-1110085d6aaa",
   "metadata": {},
   "source": [
    "###  6) Neural Networks"
   ]
  },
  {
   "cell_type": "code",
   "execution_count": null,
   "id": "7d154ff4-3269-4c27-8da7-1a978081d190",
   "metadata": {},
   "outputs": [],
   "source": []
  }
 ],
 "metadata": {
  "kernelspec": {
   "display_name": "Python 3 (ipykernel)",
   "language": "python",
   "name": "python3"
  },
  "language_info": {
   "codemirror_mode": {
    "name": "ipython",
    "version": 3
   },
   "file_extension": ".py",
   "mimetype": "text/x-python",
   "name": "python",
   "nbconvert_exporter": "python",
   "pygments_lexer": "ipython3",
   "version": "3.9.10"
  }
 },
 "nbformat": 4,
 "nbformat_minor": 5
}
