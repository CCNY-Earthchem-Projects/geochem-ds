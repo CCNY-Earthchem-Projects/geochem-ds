{
 "cells": [
  {
   "cell_type": "markdown",
   "id": "780d4354-2f54-4809-866a-78143878b4d8",
   "metadata": {},
   "source": [
    "# Notebook #5: Intro to Machine Learning"
   ]
  },
  {
   "cell_type": "markdown",
   "id": "79f57b07-69a0-426c-bfbf-3c9e84e92e54",
   "metadata": {},
   "source": [
    "## Table of Contents:\n",
    "###  1) \n",
    "###  2) \n",
    "###  3)\n",
    "###  4) \n",
    "###  5)"
   ]
  },
  {
   "cell_type": "code",
   "execution_count": null,
   "id": "6aab8a3a-0e15-43f2-8ce5-5d3de022e856",
   "metadata": {},
   "outputs": [],
   "source": []
  }
 ],
 "metadata": {
  "kernelspec": {
   "display_name": "Python 3 (ipykernel)",
   "language": "python",
   "name": "python3"
  },
  "language_info": {
   "codemirror_mode": {
    "name": "ipython",
    "version": 3
   },
   "file_extension": ".py",
   "mimetype": "text/x-python",
   "name": "python",
   "nbconvert_exporter": "python",
   "pygments_lexer": "ipython3",
   "version": "3.9.10"
  }
 },
 "nbformat": 4,
 "nbformat_minor": 5
}
