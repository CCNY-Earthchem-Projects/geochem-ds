{
 "cells": [
  {
   "cell_type": "markdown",
   "id": "d36fef84-7d0e-43f1-8a43-08afd6c1605f",
   "metadata": {},
   "source": [
    "# Notebook #2: Data Manipulation and Basic Statistics"
   ]
  },
  {
   "cell_type": "markdown",
   "id": "022558ab-f64a-46a1-a273-30c563fa8971",
   "metadata": {},
   "source": [
    "## Table of Contents:\n",
    "###  1) CSV\n",
    "###  2) Pandas\n",
    "###  3) Numpy\n",
    "###  4) MatPlotLib\n",
    "###  5) Statistics"
   ]
  },
  {
   "cell_type": "markdown",
   "id": "160291d6-c4ea-4083-9e4d-b3d4af5bc662",
   "metadata": {},
   "source": [
    "### 1) CSV"
   ]
  },
  {
   "cell_type": "markdown",
   "id": "695290ff-3ce7-45bd-b491-f4fae0b4242d",
   "metadata": {},
   "source": [
    "#### What is a CSV file? CSV stands for Comma Separated Values. Each line of the file is a data record and each record consists of one or more fields, separated by commas hence the name. \n",
    "\n",
    "#### Some of the advantages of csv files are as follows: they are easy to create, they are very readable, they can be read using almost any text editor, they are easy to parse, they are compact, and so much more.\n",
    "\n",
    "#### Lets start off by seeing how we can open a csv file in Python"
   ]
  },
  {
   "cell_type": "code",
   "execution_count": 2,
   "id": "3628a002-5c3f-4c64-b9d3-83f78203f1e8",
   "metadata": {},
   "outputs": [
    {
     "name": "stdout",
     "output_type": "stream",
     "text": [
      "/home/jovyan/GeoChem Project/Notebooks/Notebook 2\n"
     ]
    }
   ],
   "source": [
    "!pwd # First, lets see what directory we are currently in to make sure our path is correct\n",
    "     # This command preceded by the exclamation point is called a bash command, this is how we can talk directly\n",
    "     # to the environment we're working in. The exclamation point is how we can call it within a Jupyter cell."
   ]
  },
  {
   "cell_type": "code",
   "execution_count": 8,
   "id": "79ffd056-0976-4fbf-a027-1b8144eaa6ab",
   "metadata": {},
   "outputs": [
    {
     "name": "stdout",
     "output_type": "stream",
     "text": [
      "SAMPLE ID\tIGSN\tSOURCE\tREFERENCE\tCRUISE ID\tLATITUDE\tLONGITUDE\tLOC PREC\tMIN AGE\tAGE\tMAX AGE\tMATERIAL\tTYPE\tCOMPOSITION\tROCK NAME\tMINERAL\tSIO2\tTIO2\tAL2O3\tCR2O3\tFE2O3\tFE2O3T\tFEO\tFEOT\tNIO\tMNO\tMGO\tCAO\tSRO\tNA2O\tK2O\tP2O5\tBAO\tLOI\tH2O\tH2O_M\tH2O_P\tSO2\tSO3\tV2O3\tV2O5\tZNO\tCOO\tLA2O3\tCE2O3\tO\tSI\tFE\tMN\tNI\tCO\tCU\tCD\tZN\tAS\tAG\tFES2\tS\tS_SLFI\tSLFA\tC_NON_CARB\tCACO3\tCUO\tCU2O\tDY2O3\tFECO3\tGD2O3\tHFO\tHFO2\tMGCO3\tMNCO3\tNB2O3\tNB2O5\tND2O3\tSC2O3\tSM2O3\tTA2O5\tTHO\tTHO2\tUO2\tWO3\tY2O3\tZRO2\tAL\tCA\tMG\tS_PY\tTOC\tSR87_SR86\tSR87_SR86_INI\tRB87_SR86\tSR86_SR88\tE_SR\tND142_ND144\tND143_ND144\tND143_ND144_INI\tND145_ND144\tND146_ND144\tND148_ND144\tND150_ND144\tSM147_ND144\tSM147_ND146\tE_ND\tE_ND_INI\tPB204_PB206\tPB206\tPB206_PB204\tPB206_PB204_INI\tPB207_PB204\tPB207_PB204_INI\tPB207_PB206\tPB207_PB206_INI\tPB207_PB208\tPB208_PB204\tPB208_PB204_INI\tPB208_PB206\tPB208_PB206_INI\tHF176_HF177\tHF176_HF177_INI\tLU176_HF177\tE_HF\tE_HF_INI\tRE187_OS188\tRE187_OS186\tOS187_OS188\tOS187_OS188_INI\tOS187_OS186\tOS186_OS188\tOS184_OS188\tOS189_OS188\tOS190_OS188\tOS192_OS188\tPT190_OS188\tCE138_CE142\tCE140_ND146\tE_CE\tBE9\tBE10\tBE10_BE9\tAR39_AR40\tAR37_AR40\tAR40_HE4\tE_ND_JUV\tE_SR_INI\tG_OS\tG_OS_INI\tHF176_HF177_INI\tLU176_HF177_INI\tND143_ND144_INI\tPB204\tPB206_PB204_INI\tPB206_PB207\tPB206_U235\tPB207_PB204_INI\tPB208_PB204_INI\tPB208_TH232\tSR84_SR86\tSR84_SR88\tSR87_SR86_INI\tYB176_HF177\tAR40RG_AR39K\tPB206_U238\tPB207_U235\tTH232_U238\tE_TL\tHE\tHE3\tHE4\tHE4_NCC\tHE3_HE4\tHE4_HE3\tHE3_HE4_R_RA\tHE4_AR40\tHE4_NE20\tAR\tAR36\tAR38\tAR39\tAR40\tAR40_RG\tAR36_AR38\tAR38_AR36\tAR36_AR40\tAR40_AR36\tAR40_AR39\tNE\tNE20\tNE21\tNE22\tNE23\tNE21_HE4\tNE21_NE20\tNE20_NE22\tNE22_NE20\tNE21_NE22\tKR\tKR78\tKR80\tKR82\tKR83\tKR84\tKR86\tKR90\tKR78_KR84\tKR80_KR84\tKR82_KR84\tKR83_KR84\tKR86_KR84\tXE\tXE124\tXE126\tXE128\tXE129\tXE130\tXE131\tXE132\tXE134\tXE136\tXE124_XE130\tXE124_XE132\tXE126_XE130\tXE126_XE132\tXE128_XE130\tXE128_XE132\tXE129_XE130\tXE129_XE132\tXE129_XE136\tXE130_XE132\tXE131_XE130\tXE131_XE132\tXE132_XE130\tXE134_XE130\tXE134_XE132\tXE136_HE4\tXE136_XE130\tXE136_XE132\tN2_AR36\tN2_HE3\tHE4_NE21\tLA\tCE\tPR\tND\tSM\tEU\tGD\tTB\tDY\tHO\tER\tTM\tYB\tLU\tCO2\tCO2_UMOL\tF\tCL\tCO1\tCH4\tH\tH2\tOH\tN2\tN2_NMOL\tH2S\tO2\tPA231\tU234_ACTIVITY\tU238_ACTIVITY\tU234_U238_ACTIVITY\tU234_U238\tU235_PB204\tU235_PB207\tU238_PB206\tU238_TH230\tU238_TH232_ACTIVITY\tU238_TH232\tU238_PB204\tDELTA_U234\tTH230\tTH230_ACTIVITY\tTH232_ACTIVITY\tTH230_TH232\tTH230_TH232_ACTIVITY\tTH230_U238_ACTIVITY\tTH230_U238\tTH232_U238\tTH238_TH232_ACTIVITY\tTH232_PB204\tTH232_PB208\tTH228_TH232\tRA\tRA226\tRA226_ACTIVITY\tRA226_TH230\tRA226_TH230_ACTIVITY\tRE187_OS186\tPA231_ACTIVITY\tPA231_U235_ACTIVITY\tPB206_U238\tPB207_U235\tPB210\tPB210_RA226\tPB210_U238\tPB210_ACTIVITY\tPO210_ACTIVITY\tPB210_RA226_ACTIVITY\tU230_TH232_ACTIVITY\tU238_TH230_ACTIVITY\tAG\tAL\tAS\tAU\tB\tBA\tBE\tBI\tBR\tC\tCA\tCD\tCO\tCR\tCS\tCU\tGA\tGER\tHF\tHG\tI\tINDIUM\tIR\tK\tLI\tMG\tMN\tMO\tN\tNA\tNB\tNI\tOS\tOS_INI\tP\tPA\tPB\tPD\tPT\tRB\tRE\tRH\tRU\tS\tSB\tSC\tSE\tSI\tSN\tSR\tTA\tTE\tTH\tTI\tTL\tU\tV\tW\tY\tZN\tZR\tZR2O3\tDELTA_FE57\tDELTA_O18\tDELTA_B11\tDELTA_C13\tDELTA_CL37\tDELTA_CA44\tDELTA_CU65\tDELTA_D\tDELTA_FE56\tDELTA_LI6\tDELTA_LI7\tDELTA_MG25\tDELTA_MG26\tDELTA_MO98\tDELTA_N15\tDELTA_NI60\tDELTA_S33\tDELTA_S34\tCAP_DELTA_S33\tCAP_DELTA_S36\tDELTA_S36\tDELTA_SI29\tDELTA_SI30\tDELTA_U238\tDELTA_ZN66\tDELTA_ZN68\tAR40_AR36_INI\tAR40RG_AR39K\tAR40_ATM\tB11_B10\tOS188\tTL203_TL205\tTI\tAS\tAS\tGER\tH2O_M\tH2O_P\tH2O_M\tH2O_P\tINDIUM\n",
      "\n",
      "SU20\t\tGEOROC\tJAKOBSSON, S. P., 1972\t\t63.28\t-20.65\t0.01\t\t\t\tigneous\tvolcanic\t\tbasalt, alkaline\t\t\t\t\t\t\t\t\t\t\t\t\t\t\t\t\t\t\t\t\t\t\t\t\t\t\t\t\t\t\t\t\t\t\t460\t70\t100\t\t\t\t\t\t\t\t\t\t\t\t\t\t\t\t\t\t\t\t\t\t\t\t\t\t\t\t\t\t\t\t\t\t\t\t\t\t\t\t\t\t\t\t\t\t\t\t\t\t\t\t\t\t\t\t\t\t\t\t\t\t\t\t\t\t\t\t\t\t\t\t\t\t\t\t\t\t\t\t\t\t\t\t\t\t\t\t\t\t\t\t\t\t\t\t\t\t\t\t\t\t\t\t\t\t\t\t\t\t\t\t\t\t\t\t\t\t\t\t\t\t\t\t\t\t\t\t\t\t\t\t\t\t\t\t\t\t\t\t\t\t\t\t\t\t\t\t\t\t\t\t\t\t\t\t\t\t\t\t\t\t\t\t\t\t\t\t\t\t\t\t\t\t\t\t\t\t\t\t\t\t\t\t\t\t\t\t\t\t\t\t\t\t\t\t\t\t\t\t\t\t\t\t\t\t\t\t\t\t\t\t\t\t\t\t\t\t\t\t\t\t\t\t\t\t\t\t\t\t\t\t\t\t\t\t\t\t\t\t\t\t\t\t\t\t\t\t\t\t\t\t\t\t\t\t\t\t\t\t\t\t\t40\t\t\t\t\t\t\t70\t800\t\t100\t\t\t\t\t\t\t\t\t\t\t\t\t\t\t\t460\t\t\t\t\t\t\t\t\t\t\t\t\t\t\t\t\t\t140\t\t\t\t\t\t\t300\t\t\t\t165\t\t\t\t\t\t\t\t\t\t\t\t\t\t\t\t\t\t\t\t\t\t\t\t\t\t\t\t\t\t\t\t\t\t\t\t\t\t\t\t\t\t\n",
      "\n",
      "OS208224\t\tGEOROC\tSKOVGAARD, A. C.; STOREY, M.; BAKER, J. A.; BLUSZTAJN, J., 2001\t\t63.92\t-21.48\t0.01\t\t\t\tigneous\tvolcanic\t\tpicrite\t\t47.77\t0.54\t15.06\t\t1.34\t\t7.07\t\t\t0.151\t13.14\t12.55\t\t1.51\t0.023\t0.039\t\t0.257\t\t\t\t\t\t\t\t\t\t\t\t\t\t\t\t415\t58\t109\t\t52\t\t\t\t\t\t\t\t\t\t\t\t\t\t\t\t\t\t\t\t\t\t\t\t\t\t\t\t\t\t\t\t\t\t\t\t\t\t\t\t\t\t\t\t\t\t\t\t\t\t\t\t\t\t\t\t\t\t\t\t\t\t\t\t\t\t\t\t\t\t\t0.1361\t\t\t\t\t\t\t\t\t\t\t\t\t\t\t\t\t\t\t\t\t\t\t\t\t\t\t\t\t\t\t\t\t\t\t\t\t\t\t\t\t\t\t\t\t\t\t\t\t\t\t\t\t\t\t\t\t\t\t\t\t\t\t\t\t\t\t\t\t\t\t\t\t\t\t\t\t\t\t\t\t\t\t\t\t\t\t\t\t\t\t\t\t\t\t\t\t\t\t\t\t\t\t\t\t\t\t\t\t\t\t\t\t\t\t0.63\t1.95\t0.38\t2.37\t1.07\t0.48\t1.86\t0.35\t2.5\t0.55\t1.63\t0.25\t1.69\t0.27\t\t\t\t\t\t\t\t\t\t\t\t\t\t\t\t\t\t\t\t\t\t\t\t\t\t\t\t\t\t\t\t\t\t\t\t\t\t\t\t\t\t\t\t\t\t\t\t\t\t\t\t\t\t\t\t\t\t\t\t\t\t5.59\t\t\t\t\t\t\t58\t928\t\t109\t12\t\t0.64\t\t\t\t\t\t\t\t\t\t\t\t0.7\t415\t281.8\t\t\t\t\t\t\t0.39\t\t\t\t\t\t42\t\t\t\t63.4\t0.058\t\t0.039\t5200\t\t0.018\t217\t\t16.2\t52\t18.6\t\t\t\t\t\t\t\t\t\t\t\t\t\t\t\t\t\t\t\t\t\t\t\t\t\t\t\t\t\t\t\t\t\t5200\t\t\t\t\t\t\t\t\n",
      "\n",
      "OS208224\t\tGEOROC\tSKOVGAARD, A. C.; STOREY, M.; BAKER, J. A.; BLUSZTAJN, J., 2001\t\t63.92\t-21.48\t0.01\t\t\t\tigneous\tvolcanic\t\tpicrite\t\t\t\t\t\t\t\t\t\t\t\t\t\t\t\t\t\t\t\t\t\t\t\t\t\t\t\t\t\t\t\t\t\t\t\t\t\t\t\t\t\t\t\t\t\t\t\t\t\t\t\t\t\t\t\t\t\t\t\t\t\t\t\t\t\t\t\t\t\t\t\t\t\t\t\t\t\t\t\t\t\t\t\t\t\t\t\t\t\t\t\t\t\t\t\t\t\t\t\t\t\t\t\t\t\t\t\t\t\t0.136\t\t\t\t\t\t\t\t\t\t\t\t\t\t\t\t\t\t\t\t\t\t\t\t\t\t\t\t\t\t\t\t\t\t\t\t\t\t\t\t\t\t\t\t\t\t\t\t\t\t\t\t\t\t\t\t\t\t\t\t\t\t\t\t\t\t\t\t\t\t\t\t\t\t\t\t\t\t\t\t\t\t\t\t\t\t\t\t\t\t\t\t\t\t\t\t\t\t\t\t\t\t\t\t\t\t\t\t\t\t\t\t\t\t\t\t\t\t\t\t\t\t\t\t\t\t\t\t\t\t\t\t\t\t\t\t\t\t\t\t\t\t\t\t\t\t\t\t\t\t\t\t\t\t\t\t\t\t\t\t\t\t\t\t\t\t\t\t\t\t\t\t\t\t\t\t\t\t\t\t\t\t\t\t\t\t\t\t\t\t\t\t\t\t\t\t\t\t\t\t\t\t\t\t\t\t\t\t\t\t\t\t\t\t\t\t\t255.2\t\t\t\t\t\t\t\t\t\t\t\t\t\t\t\t\t\t\t\t\t\t\t\t\t\t\t\t\t\t\t\t\t\t\t\t\t\t\t\t\t\t\t\t\t\t\t\t\t\t\t\t\t\t\t\t\t\t\t\t\t\t\t\t\t\t\t\t\t\t\n",
      "\n",
      "OS208224\t\tGEOROC\tJACKSON, M. G.; HART, S. R.; SAAL, A. E.; SHIMIZU, N.; KURZ, M. D.; BLUSZTAJN, J.; SKOVGAARD, A. C., 2008\t\t63.92\t-21.48\t0.01\t\t\t\tigneous\tvolcanic\t\tunknown\t\t\t\t\t\t\t\t\t\t\t\t\t\t\t\t\t\t\t\t\t\t\t\t\t\t\t\t\t\t\t\t\t\t\t\t\t\t\t\t\t\t\t\t\t\t\t\t\t\t\t\t\t\t\t\t\t\t\t\t\t\t\t\t\t\t\t\t\t\t\t\t\t\t\t\t\t\t\t\t\t\t\t\t\t\t\t\t\t\t\t\t\t\t\t\t\t\t\t\t\t\t\t\t\t\t\t\t\t\t\t\t\t\t\t\t\t\t\t\t\t\t\t\t\t\t\t\t\t\t\t\t\t\t\t\t\t\t\t\t\t\t\t\t\t\t\t\t\t\t\t\t\t\t\t8.2\t\t\t\t\t\t\t\t\t\t\t\t\t\t\t\t\t\t\t\t\t\t\t\t\t\t\t\t\t\t\t\t\t\t\t\t\t\t\t\t\t\t\t\t\t\t\t\t\t\t\t\t\t\t\t\t\t\t\t\t\t\t\t\t\t\t\t\t\t\t\t\t\t\t\t\t\t\t\t\t\t\t\t\t\t\t\t\t\t\t\t\t\t\t\t\t\t\t\t\t\t\t\t\t\t\t\t\t\t\t\t\t\t\t\t\t\t\t\t\t\t\t\t\t\t\t\t\t\t\t\t\t\t\t\t\t\t\t\t\t\t\t\t\t\t\t\t\t\t\t\t\t\t\t\t\t\t\t\t\t\t\t\t\t\t\t\t\t\t\t\t\t\t\t\t\t\t\t\t\t\t\t\t\t\t\t\t\t\t\t\t\t\t\t\t\t\t\t\t\t\t\t\t\t\t\t\t\t\t\t\t\t\t\t\t\t\t\t\t\t\t\t\t\t\t\t\t\t\t\t\t\t\t\t\t\t\t\t\t\t\t\t\n",
      "\n",
      "\n",
      "First 5 lines of file have been read\n"
     ]
    }
   ],
   "source": [
    "i = 0\n",
    "\n",
    "with open(\"Notebook 2/EarthChemSample.csv\") as f: # open the file in quotes in the object f    \n",
    "    \n",
    "    for line in f:      # for each line in f, do the following\n",
    "        if i < 5:       # check if i is less than 5\n",
    "            print(line) # if so, print the line\n",
    "            i += 1      # increment i\n",
    "        else: \n",
    "            break       # leave the loop\n",
    "print()\n",
    "print(\"First 5 lines of file have been read\") "
   ]
  },
  {
   "cell_type": "markdown",
   "id": "3a9b2470-2543-4cc6-819e-b17f02610700",
   "metadata": {},
   "source": [
    "#### Lets try accessing one particular column of our data."
   ]
  },
  {
   "cell_type": "code",
   "execution_count": 8,
   "id": "6eae42c7-6712-468f-b618-68269d59d540",
   "metadata": {},
   "outputs": [
    {
     "name": "stdout",
     "output_type": "stream",
     "text": [
      "LATITUDE\n",
      "63.28\n",
      "63.92\n",
      "63.92\n",
      "63.92\n",
      "63.92\n",
      "63.92\n",
      "63.93\n",
      "63.93\n",
      "63.93\n",
      "63.93\n",
      "63.93\n",
      "63.855\n",
      "63.855\n",
      "63.908\n",
      "63.997\n",
      "63.687\n",
      "63.815\n",
      "63.815\n",
      "63.815\n",
      "\n",
      "First 20 entries of column 4 have been printed\n"
     ]
    }
   ],
   "source": [
    "i = 0\n",
    "\n",
    "with open(\"EarthChemSample.csv\") as f:    \n",
    "    \n",
    "    for line in f:     \n",
    "        if i < 20:      \n",
    "            print(line.split(\"\\t\")[5]) # Note how we use index 5 when we want to get to column 4 since we start counting\n",
    "            i += 1                     # at 0. The .split() method, when called with a delimeter inside it, splits \n",
    "        else:                          # the called upon entity by the delimeter and we can access it like a list.\n",
    "            break                      # From the previous task, we can see that our file is deimited by a tab, so we\n",
    "print()                                # use 't'. Other delimiters: ','  or '.' or '\\n' and more.\n",
    "print(\"First 20 entries of column 4 have been printed\") "
   ]
  },
  {
   "cell_type": "markdown",
   "id": "ceb854ab-312a-427e-a1fd-8720b661ba87",
   "metadata": {},
   "source": [
    "#### If you want to write something into another file, you do so by opening another file object and calling the write method."
   ]
  },
  {
   "cell_type": "code",
   "execution_count": 17,
   "id": "7c1db1ac-7e61-4539-b820-0a48eac09b39",
   "metadata": {},
   "outputs": [],
   "source": [
    "i = 0\n",
    "with open (\"EarthChemSample.csv\") as fileRead: # We open the file we want to read, no mode because read is the default.\n",
    "    fileRead.readline() # Skip the first line of headings\n",
    "    with open (\"EarthChemSampleLat.csv\", \"w\") as fileWrite: # Open an existing or uncreated file in write mode.\n",
    "        for line in fileRead: # For each line in the original file.\n",
    "            if float(line.split(\"\\t\")[5]) < 70 and i <= 20: # If the Lattitude is less than 70 and i is <= to 20.\n",
    "                fileWrite.write(line) # Write the line in the new file.\n",
    "                i += 1 # Increment i.\n",
    "            else:\n",
    "                break # Else break."
   ]
  },
  {
   "cell_type": "markdown",
   "id": "b09b5e34-6333-44c3-ba0a-308e0042a73b",
   "metadata": {},
   "source": [
    "#### Now, let's try and do this with the csv module that is in Python"
   ]
  },
  {
   "cell_type": "code",
   "execution_count": 9,
   "id": "459f1108-8a21-42c5-9e64-fce4509c4385",
   "metadata": {},
   "outputs": [
    {
     "name": "stdout",
     "output_type": "stream",
     "text": [
      "sample 0: \n",
      "{'SAMPLE ID': 'SU20', 'IGSN': '', 'SOURCE': 'GEOROC', 'REFERENCE': 'JAKOBSSON, S. P., 1972', 'CRUISE ID': '', 'LATITUDE': '63.28', 'LONGITUDE': '-20.65', 'LOC PREC': '0.01', 'MIN AGE': '', 'AGE': '', 'MAX AGE': '', 'MATERIAL': 'igneous', 'TYPE': 'volcanic', 'COMPOSITION': '', 'ROCK NAME': 'basalt, alkaline', 'MINERAL': '', 'SIO2': '', 'TIO2': '', 'AL2O3': '', 'CR2O3': '', 'FE2O3': '', 'FE2O3T': '', 'FEO': '', 'FEOT': '', 'NIO': '', 'MNO': '', 'MGO': '', 'CAO': '', 'SRO': '', 'NA2O': '', 'K2O': '', 'P2O5': '', 'BAO': '', 'LOI': '', 'H2O': '', 'H2O_M': '', 'H2O_P': '', 'SO2': '', 'SO3': '', 'V2O3': '', 'V2O5': '', 'ZNO': '', 'COO': '', 'LA2O3': '', 'CE2O3': '', 'O': '', 'SI': '', 'FE': '', 'MN': '', 'NI': '460', 'CO': '70', 'CU': '100', 'CD': '', 'ZN': '', 'AS': '', 'AG': '', 'FES2': '', 'S': '', 'S_SLFI': '', 'SLFA': '', 'C_NON_CARB': '', 'CACO3': '', 'CUO': '', 'CU2O': '', 'DY2O3': '', 'FECO3': '', 'GD2O3': '', 'HFO': '', 'HFO2': '', 'MGCO3': '', 'MNCO3': '', 'NB2O3': '', 'NB2O5': '', 'ND2O3': '', 'SC2O3': '', 'SM2O3': '', 'TA2O5': '', 'THO': '', 'THO2': '', 'UO2': '', 'WO3': '', 'Y2O3': '', 'ZRO2': '', 'AL': '', 'CA': '', 'MG': '', 'S_PY': '', 'TOC': '', 'SR87_SR86': '', 'SR87_SR86_INI': '', 'RB87_SR86': '', 'SR86_SR88': '', 'E_SR': '', 'ND142_ND144': '', 'ND143_ND144': '', 'ND143_ND144_INI': '', 'ND145_ND144': '', 'ND146_ND144': '', 'ND148_ND144': '', 'ND150_ND144': '', 'SM147_ND144': '', 'SM147_ND146': '', 'E_ND': '', 'E_ND_INI': '', 'PB204_PB206': '', 'PB206': '', 'PB206_PB204': '', 'PB206_PB204_INI': '', 'PB207_PB204': '', 'PB207_PB204_INI': '', 'PB207_PB206': '', 'PB207_PB206_INI': '', 'PB207_PB208': '', 'PB208_PB204': '', 'PB208_PB204_INI': '', 'PB208_PB206': '', 'PB208_PB206_INI': '', 'HF176_HF177': '', 'HF176_HF177_INI': '', 'LU176_HF177': '', 'E_HF': '', 'E_HF_INI': '', 'RE187_OS188': '', 'RE187_OS186': '', 'OS187_OS188': '', 'OS187_OS188_INI': '', 'OS187_OS186': '', 'OS186_OS188': '', 'OS184_OS188': '', 'OS189_OS188': '', 'OS190_OS188': '', 'OS192_OS188': '', 'PT190_OS188': '', 'CE138_CE142': '', 'CE140_ND146': '', 'E_CE': '', 'BE9': '', 'BE10': '', 'BE10_BE9': '', 'AR39_AR40': '', 'AR37_AR40': '', 'AR40_HE4': '', 'E_ND_JUV': '', 'E_SR_INI': '', 'G_OS': '', 'G_OS_INI': '', 'LU176_HF177_INI': '', 'PB204': '', 'PB206_PB207': '', 'PB206_U235': '', 'PB208_TH232': '', 'SR84_SR86': '', 'SR84_SR88': '', 'YB176_HF177': '', 'AR40RG_AR39K': '', 'PB206_U238': '', 'PB207_U235': '', 'TH232_U238': '', 'E_TL': '', 'HE': '', 'HE3': '', 'HE4': '', 'HE4_NCC': '', 'HE3_HE4': '', 'HE4_HE3': '', 'HE3_HE4_R_RA': '', 'HE4_AR40': '', 'HE4_NE20': '', 'AR': '', 'AR36': '', 'AR38': '', 'AR39': '', 'AR40': '', 'AR40_RG': '', 'AR36_AR38': '', 'AR38_AR36': '', 'AR36_AR40': '', 'AR40_AR36': '', 'AR40_AR39': '', 'NE': '', 'NE20': '', 'NE21': '', 'NE22': '', 'NE23': '', 'NE21_HE4': '', 'NE21_NE20': '', 'NE20_NE22': '', 'NE22_NE20': '', 'NE21_NE22': '', 'KR': '', 'KR78': '', 'KR80': '', 'KR82': '', 'KR83': '', 'KR84': '', 'KR86': '', 'KR90': '', 'KR78_KR84': '', 'KR80_KR84': '', 'KR82_KR84': '', 'KR83_KR84': '', 'KR86_KR84': '', 'XE': '', 'XE124': '', 'XE126': '', 'XE128': '', 'XE129': '', 'XE130': '', 'XE131': '', 'XE132': '', 'XE134': '', 'XE136': '', 'XE124_XE130': '', 'XE124_XE132': '', 'XE126_XE130': '', 'XE126_XE132': '', 'XE128_XE130': '', 'XE128_XE132': '', 'XE129_XE130': '', 'XE129_XE132': '', 'XE129_XE136': '', 'XE130_XE132': '', 'XE131_XE130': '', 'XE131_XE132': '', 'XE132_XE130': '', 'XE134_XE130': '', 'XE134_XE132': '', 'XE136_HE4': '', 'XE136_XE130': '', 'XE136_XE132': '', 'N2_AR36': '', 'N2_HE3': '', 'HE4_NE21': '', 'LA': '', 'CE': '', 'PR': '', 'ND': '', 'SM': '', 'EU': '', 'GD': '', 'TB': '', 'DY': '', 'HO': '', 'ER': '', 'TM': '', 'YB': '', 'LU': '', 'CO2': '', 'CO2_UMOL': '', 'F': '', 'CL': '', 'CO1': '', 'CH4': '', 'H': '', 'H2': '', 'OH': '', 'N2': '', 'N2_NMOL': '', 'H2S': '', 'O2': '', 'PA231': '', 'U234_ACTIVITY': '', 'U238_ACTIVITY': '', 'U234_U238_ACTIVITY': '', 'U234_U238': '', 'U235_PB204': '', 'U235_PB207': '', 'U238_PB206': '', 'U238_TH230': '', 'U238_TH232_ACTIVITY': '', 'U238_TH232': '', 'U238_PB204': '', 'DELTA_U234': '', 'TH230': '', 'TH230_ACTIVITY': '', 'TH232_ACTIVITY': '', 'TH230_TH232': '', 'TH230_TH232_ACTIVITY': '', 'TH230_U238_ACTIVITY': '', 'TH230_U238': '', 'TH238_TH232_ACTIVITY': '', 'TH232_PB204': '', 'TH232_PB208': '', 'TH228_TH232': '', 'RA': '', 'RA226': '', 'RA226_ACTIVITY': '', 'RA226_TH230': '', 'RA226_TH230_ACTIVITY': '', 'PA231_ACTIVITY': '', 'PA231_U235_ACTIVITY': '', 'PB210': '', 'PB210_RA226': '', 'PB210_U238': '', 'PB210_ACTIVITY': '', 'PO210_ACTIVITY': '', 'PB210_RA226_ACTIVITY': '', 'U230_TH232_ACTIVITY': '', 'U238_TH230_ACTIVITY': '', 'AU': '', 'B': '', 'BA': '40', 'BE': '', 'BI': '', 'BR': '', 'C': '', 'CR': '800', 'CS': '', 'GA': '', 'GER': '', 'HF': '', 'HG': '', 'I': '', 'INDIUM': '', 'IR': '', 'K': '', 'LI': '', 'MO': '', 'N': '', 'NA': '', 'NB': '', 'OS': '', 'OS_INI': '', 'P': '', 'PA': '', 'PB': '', 'PD': '', 'PT': '', 'RB': '', 'RE': '', 'RH': '', 'RU': '', 'SB': '', 'SC': '', 'SE': '', 'SN': '', 'SR': '140', 'TA': '', 'TE': '', 'TH': '', 'TI': '', 'TL': '', 'U': '', 'V': '300', 'W': '', 'Y': '', 'ZR': '165', 'ZR2O3': '', 'DELTA_FE57': '', 'DELTA_O18': '', 'DELTA_B11': '', 'DELTA_C13': '', 'DELTA_CL37': '', 'DELTA_CA44': '', 'DELTA_CU65': '', 'DELTA_D': '', 'DELTA_FE56': '', 'DELTA_LI6': '', 'DELTA_LI7': '', 'DELTA_MG25': '', 'DELTA_MG26': '', 'DELTA_MO98': '', 'DELTA_N15': '', 'DELTA_NI60': '', 'DELTA_S33': '', 'DELTA_S34': '', 'CAP_DELTA_S33': '', 'CAP_DELTA_S36': '', 'DELTA_S36': '', 'DELTA_SI29': '', 'DELTA_SI30': '', 'DELTA_U238': '', 'DELTA_ZN66': '', 'DELTA_ZN68': '', 'AR40_AR36_INI': '', 'AR40_ATM': '', 'B11_B10': '', 'OS188': '', 'TL203_TL205': ''}\n",
      "\n",
      "sample 1: \n",
      "{'SAMPLE ID': 'OS208224', 'IGSN': '', 'SOURCE': 'GEOROC', 'REFERENCE': 'SKOVGAARD, A. C.; STOREY, M.; BAKER, J. A.; BLUSZTAJN, J., 2001', 'CRUISE ID': '', 'LATITUDE': '63.92', 'LONGITUDE': '-21.48', 'LOC PREC': '0.01', 'MIN AGE': '', 'AGE': '', 'MAX AGE': '', 'MATERIAL': 'igneous', 'TYPE': 'volcanic', 'COMPOSITION': '', 'ROCK NAME': 'picrite', 'MINERAL': '', 'SIO2': '47.77', 'TIO2': '0.54', 'AL2O3': '15.06', 'CR2O3': '', 'FE2O3': '1.34', 'FE2O3T': '', 'FEO': '7.07', 'FEOT': '', 'NIO': '', 'MNO': '0.151', 'MGO': '13.14', 'CAO': '12.55', 'SRO': '', 'NA2O': '1.51', 'K2O': '0.023', 'P2O5': '0.039', 'BAO': '', 'LOI': '0.257', 'H2O': '', 'H2O_M': '', 'H2O_P': '', 'SO2': '', 'SO3': '', 'V2O3': '', 'V2O5': '', 'ZNO': '', 'COO': '', 'LA2O3': '', 'CE2O3': '', 'O': '', 'SI': '', 'FE': '', 'MN': '', 'NI': '415', 'CO': '58', 'CU': '109', 'CD': '', 'ZN': '52', 'AS': '', 'AG': '', 'FES2': '', 'S': '', 'S_SLFI': '', 'SLFA': '', 'C_NON_CARB': '', 'CACO3': '', 'CUO': '', 'CU2O': '', 'DY2O3': '', 'FECO3': '', 'GD2O3': '', 'HFO': '', 'HFO2': '', 'MGCO3': '', 'MNCO3': '', 'NB2O3': '', 'NB2O5': '', 'ND2O3': '', 'SC2O3': '', 'SM2O3': '', 'TA2O5': '', 'THO': '', 'THO2': '', 'UO2': '', 'WO3': '', 'Y2O3': '', 'ZRO2': '', 'AL': '', 'CA': '', 'MG': '', 'S_PY': '', 'TOC': '', 'SR87_SR86': '', 'SR87_SR86_INI': '', 'RB87_SR86': '', 'SR86_SR88': '', 'E_SR': '', 'ND142_ND144': '', 'ND143_ND144': '', 'ND143_ND144_INI': '', 'ND145_ND144': '', 'ND146_ND144': '', 'ND148_ND144': '', 'ND150_ND144': '', 'SM147_ND144': '', 'SM147_ND146': '', 'E_ND': '', 'E_ND_INI': '', 'PB204_PB206': '', 'PB206': '', 'PB206_PB204': '', 'PB206_PB204_INI': '', 'PB207_PB204': '', 'PB207_PB204_INI': '', 'PB207_PB206': '', 'PB207_PB206_INI': '', 'PB207_PB208': '', 'PB208_PB204': '', 'PB208_PB204_INI': '', 'PB208_PB206': '', 'PB208_PB206_INI': '', 'HF176_HF177': '', 'HF176_HF177_INI': '', 'LU176_HF177': '', 'E_HF': '', 'E_HF_INI': '', 'RE187_OS188': '', 'RE187_OS186': '', 'OS187_OS188': '0.1361', 'OS187_OS188_INI': '', 'OS187_OS186': '', 'OS186_OS188': '', 'OS184_OS188': '', 'OS189_OS188': '', 'OS190_OS188': '', 'OS192_OS188': '', 'PT190_OS188': '', 'CE138_CE142': '', 'CE140_ND146': '', 'E_CE': '', 'BE9': '', 'BE10': '', 'BE10_BE9': '', 'AR39_AR40': '', 'AR37_AR40': '', 'AR40_HE4': '', 'E_ND_JUV': '', 'E_SR_INI': '', 'G_OS': '', 'G_OS_INI': '', 'LU176_HF177_INI': '', 'PB204': '', 'PB206_PB207': '', 'PB206_U235': '', 'PB208_TH232': '', 'SR84_SR86': '', 'SR84_SR88': '', 'YB176_HF177': '', 'AR40RG_AR39K': '', 'PB206_U238': '', 'PB207_U235': '', 'TH232_U238': '', 'E_TL': '', 'HE': '', 'HE3': '', 'HE4': '', 'HE4_NCC': '', 'HE3_HE4': '', 'HE4_HE3': '', 'HE3_HE4_R_RA': '', 'HE4_AR40': '', 'HE4_NE20': '', 'AR': '', 'AR36': '', 'AR38': '', 'AR39': '', 'AR40': '', 'AR40_RG': '', 'AR36_AR38': '', 'AR38_AR36': '', 'AR36_AR40': '', 'AR40_AR36': '', 'AR40_AR39': '', 'NE': '', 'NE20': '', 'NE21': '', 'NE22': '', 'NE23': '', 'NE21_HE4': '', 'NE21_NE20': '', 'NE20_NE22': '', 'NE22_NE20': '', 'NE21_NE22': '', 'KR': '', 'KR78': '', 'KR80': '', 'KR82': '', 'KR83': '', 'KR84': '', 'KR86': '', 'KR90': '', 'KR78_KR84': '', 'KR80_KR84': '', 'KR82_KR84': '', 'KR83_KR84': '', 'KR86_KR84': '', 'XE': '', 'XE124': '', 'XE126': '', 'XE128': '', 'XE129': '', 'XE130': '', 'XE131': '', 'XE132': '', 'XE134': '', 'XE136': '', 'XE124_XE130': '', 'XE124_XE132': '', 'XE126_XE130': '', 'XE126_XE132': '', 'XE128_XE130': '', 'XE128_XE132': '', 'XE129_XE130': '', 'XE129_XE132': '', 'XE129_XE136': '', 'XE130_XE132': '', 'XE131_XE130': '', 'XE131_XE132': '', 'XE132_XE130': '', 'XE134_XE130': '', 'XE134_XE132': '', 'XE136_HE4': '', 'XE136_XE130': '', 'XE136_XE132': '', 'N2_AR36': '', 'N2_HE3': '', 'HE4_NE21': '', 'LA': '0.63', 'CE': '1.95', 'PR': '0.38', 'ND': '2.37', 'SM': '1.07', 'EU': '0.48', 'GD': '1.86', 'TB': '0.35', 'DY': '2.5', 'HO': '0.55', 'ER': '1.63', 'TM': '0.25', 'YB': '1.69', 'LU': '0.27', 'CO2': '', 'CO2_UMOL': '', 'F': '', 'CL': '', 'CO1': '', 'CH4': '', 'H': '', 'H2': '', 'OH': '', 'N2': '', 'N2_NMOL': '', 'H2S': '', 'O2': '', 'PA231': '', 'U234_ACTIVITY': '', 'U238_ACTIVITY': '', 'U234_U238_ACTIVITY': '', 'U234_U238': '', 'U235_PB204': '', 'U235_PB207': '', 'U238_PB206': '', 'U238_TH230': '', 'U238_TH232_ACTIVITY': '', 'U238_TH232': '', 'U238_PB204': '', 'DELTA_U234': '', 'TH230': '', 'TH230_ACTIVITY': '', 'TH232_ACTIVITY': '', 'TH230_TH232': '', 'TH230_TH232_ACTIVITY': '', 'TH230_U238_ACTIVITY': '', 'TH230_U238': '', 'TH238_TH232_ACTIVITY': '', 'TH232_PB204': '', 'TH232_PB208': '', 'TH228_TH232': '', 'RA': '', 'RA226': '', 'RA226_ACTIVITY': '', 'RA226_TH230': '', 'RA226_TH230_ACTIVITY': '', 'PA231_ACTIVITY': '', 'PA231_U235_ACTIVITY': '', 'PB210': '', 'PB210_RA226': '', 'PB210_U238': '', 'PB210_ACTIVITY': '', 'PO210_ACTIVITY': '', 'PB210_RA226_ACTIVITY': '', 'U230_TH232_ACTIVITY': '', 'U238_TH230_ACTIVITY': '', 'AU': '', 'B': '', 'BA': '5.59', 'BE': '', 'BI': '', 'BR': '', 'C': '', 'CR': '928', 'CS': '', 'GA': '12', 'GER': '', 'HF': '0.64', 'HG': '', 'I': '', 'INDIUM': '', 'IR': '', 'K': '', 'LI': '', 'MO': '', 'N': '', 'NA': '', 'NB': '0.7', 'OS': '281.8', 'OS_INI': '', 'P': '', 'PA': '', 'PB': '', 'PD': '', 'PT': '', 'RB': '0.39', 'RE': '', 'RH': '', 'RU': '', 'SB': '', 'SC': '42', 'SE': '', 'SN': '', 'SR': '63.4', 'TA': '0.058', 'TE': '', 'TH': '0.039', 'TI': '5200', 'TL': '', 'U': '0.018', 'V': '217', 'W': '', 'Y': '16.2', 'ZR': '18.6', 'ZR2O3': '', 'DELTA_FE57': '', 'DELTA_O18': '', 'DELTA_B11': '', 'DELTA_C13': '', 'DELTA_CL37': '', 'DELTA_CA44': '', 'DELTA_CU65': '', 'DELTA_D': '', 'DELTA_FE56': '', 'DELTA_LI6': '', 'DELTA_LI7': '', 'DELTA_MG25': '', 'DELTA_MG26': '', 'DELTA_MO98': '', 'DELTA_N15': '', 'DELTA_NI60': '', 'DELTA_S33': '', 'DELTA_S34': '', 'CAP_DELTA_S33': '', 'CAP_DELTA_S36': '', 'DELTA_S36': '', 'DELTA_SI29': '', 'DELTA_SI30': '', 'DELTA_U238': '', 'DELTA_ZN66': '', 'DELTA_ZN68': '', 'AR40_AR36_INI': '', 'AR40_ATM': '', 'B11_B10': '', 'OS188': '', 'TL203_TL205': ''}\n",
      "\n",
      "sample 2: \n",
      "{'SAMPLE ID': 'OS208224', 'IGSN': '', 'SOURCE': 'GEOROC', 'REFERENCE': 'SKOVGAARD, A. C.; STOREY, M.; BAKER, J. A.; BLUSZTAJN, J., 2001', 'CRUISE ID': '', 'LATITUDE': '63.92', 'LONGITUDE': '-21.48', 'LOC PREC': '0.01', 'MIN AGE': '', 'AGE': '', 'MAX AGE': '', 'MATERIAL': 'igneous', 'TYPE': 'volcanic', 'COMPOSITION': '', 'ROCK NAME': 'picrite', 'MINERAL': '', 'SIO2': '', 'TIO2': '', 'AL2O3': '', 'CR2O3': '', 'FE2O3': '', 'FE2O3T': '', 'FEO': '', 'FEOT': '', 'NIO': '', 'MNO': '', 'MGO': '', 'CAO': '', 'SRO': '', 'NA2O': '', 'K2O': '', 'P2O5': '', 'BAO': '', 'LOI': '', 'H2O': '', 'H2O_M': '', 'H2O_P': '', 'SO2': '', 'SO3': '', 'V2O3': '', 'V2O5': '', 'ZNO': '', 'COO': '', 'LA2O3': '', 'CE2O3': '', 'O': '', 'SI': '', 'FE': '', 'MN': '', 'NI': '', 'CO': '', 'CU': '', 'CD': '', 'ZN': '', 'AS': '', 'AG': '', 'FES2': '', 'S': '', 'S_SLFI': '', 'SLFA': '', 'C_NON_CARB': '', 'CACO3': '', 'CUO': '', 'CU2O': '', 'DY2O3': '', 'FECO3': '', 'GD2O3': '', 'HFO': '', 'HFO2': '', 'MGCO3': '', 'MNCO3': '', 'NB2O3': '', 'NB2O5': '', 'ND2O3': '', 'SC2O3': '', 'SM2O3': '', 'TA2O5': '', 'THO': '', 'THO2': '', 'UO2': '', 'WO3': '', 'Y2O3': '', 'ZRO2': '', 'AL': '', 'CA': '', 'MG': '', 'S_PY': '', 'TOC': '', 'SR87_SR86': '', 'SR87_SR86_INI': '', 'RB87_SR86': '', 'SR86_SR88': '', 'E_SR': '', 'ND142_ND144': '', 'ND143_ND144': '', 'ND143_ND144_INI': '', 'ND145_ND144': '', 'ND146_ND144': '', 'ND148_ND144': '', 'ND150_ND144': '', 'SM147_ND144': '', 'SM147_ND146': '', 'E_ND': '', 'E_ND_INI': '', 'PB204_PB206': '', 'PB206': '', 'PB206_PB204': '', 'PB206_PB204_INI': '', 'PB207_PB204': '', 'PB207_PB204_INI': '', 'PB207_PB206': '', 'PB207_PB206_INI': '', 'PB207_PB208': '', 'PB208_PB204': '', 'PB208_PB204_INI': '', 'PB208_PB206': '', 'PB208_PB206_INI': '', 'HF176_HF177': '', 'HF176_HF177_INI': '', 'LU176_HF177': '', 'E_HF': '', 'E_HF_INI': '', 'RE187_OS188': '', 'RE187_OS186': '', 'OS187_OS188': '0.136', 'OS187_OS188_INI': '', 'OS187_OS186': '', 'OS186_OS188': '', 'OS184_OS188': '', 'OS189_OS188': '', 'OS190_OS188': '', 'OS192_OS188': '', 'PT190_OS188': '', 'CE138_CE142': '', 'CE140_ND146': '', 'E_CE': '', 'BE9': '', 'BE10': '', 'BE10_BE9': '', 'AR39_AR40': '', 'AR37_AR40': '', 'AR40_HE4': '', 'E_ND_JUV': '', 'E_SR_INI': '', 'G_OS': '', 'G_OS_INI': '', 'LU176_HF177_INI': '', 'PB204': '', 'PB206_PB207': '', 'PB206_U235': '', 'PB208_TH232': '', 'SR84_SR86': '', 'SR84_SR88': '', 'YB176_HF177': '', 'AR40RG_AR39K': '', 'PB206_U238': '', 'PB207_U235': '', 'TH232_U238': '', 'E_TL': '', 'HE': '', 'HE3': '', 'HE4': '', 'HE4_NCC': '', 'HE3_HE4': '', 'HE4_HE3': '', 'HE3_HE4_R_RA': '', 'HE4_AR40': '', 'HE4_NE20': '', 'AR': '', 'AR36': '', 'AR38': '', 'AR39': '', 'AR40': '', 'AR40_RG': '', 'AR36_AR38': '', 'AR38_AR36': '', 'AR36_AR40': '', 'AR40_AR36': '', 'AR40_AR39': '', 'NE': '', 'NE20': '', 'NE21': '', 'NE22': '', 'NE23': '', 'NE21_HE4': '', 'NE21_NE20': '', 'NE20_NE22': '', 'NE22_NE20': '', 'NE21_NE22': '', 'KR': '', 'KR78': '', 'KR80': '', 'KR82': '', 'KR83': '', 'KR84': '', 'KR86': '', 'KR90': '', 'KR78_KR84': '', 'KR80_KR84': '', 'KR82_KR84': '', 'KR83_KR84': '', 'KR86_KR84': '', 'XE': '', 'XE124': '', 'XE126': '', 'XE128': '', 'XE129': '', 'XE130': '', 'XE131': '', 'XE132': '', 'XE134': '', 'XE136': '', 'XE124_XE130': '', 'XE124_XE132': '', 'XE126_XE130': '', 'XE126_XE132': '', 'XE128_XE130': '', 'XE128_XE132': '', 'XE129_XE130': '', 'XE129_XE132': '', 'XE129_XE136': '', 'XE130_XE132': '', 'XE131_XE130': '', 'XE131_XE132': '', 'XE132_XE130': '', 'XE134_XE130': '', 'XE134_XE132': '', 'XE136_HE4': '', 'XE136_XE130': '', 'XE136_XE132': '', 'N2_AR36': '', 'N2_HE3': '', 'HE4_NE21': '', 'LA': '', 'CE': '', 'PR': '', 'ND': '', 'SM': '', 'EU': '', 'GD': '', 'TB': '', 'DY': '', 'HO': '', 'ER': '', 'TM': '', 'YB': '', 'LU': '', 'CO2': '', 'CO2_UMOL': '', 'F': '', 'CL': '', 'CO1': '', 'CH4': '', 'H': '', 'H2': '', 'OH': '', 'N2': '', 'N2_NMOL': '', 'H2S': '', 'O2': '', 'PA231': '', 'U234_ACTIVITY': '', 'U238_ACTIVITY': '', 'U234_U238_ACTIVITY': '', 'U234_U238': '', 'U235_PB204': '', 'U235_PB207': '', 'U238_PB206': '', 'U238_TH230': '', 'U238_TH232_ACTIVITY': '', 'U238_TH232': '', 'U238_PB204': '', 'DELTA_U234': '', 'TH230': '', 'TH230_ACTIVITY': '', 'TH232_ACTIVITY': '', 'TH230_TH232': '', 'TH230_TH232_ACTIVITY': '', 'TH230_U238_ACTIVITY': '', 'TH230_U238': '', 'TH238_TH232_ACTIVITY': '', 'TH232_PB204': '', 'TH232_PB208': '', 'TH228_TH232': '', 'RA': '', 'RA226': '', 'RA226_ACTIVITY': '', 'RA226_TH230': '', 'RA226_TH230_ACTIVITY': '', 'PA231_ACTIVITY': '', 'PA231_U235_ACTIVITY': '', 'PB210': '', 'PB210_RA226': '', 'PB210_U238': '', 'PB210_ACTIVITY': '', 'PO210_ACTIVITY': '', 'PB210_RA226_ACTIVITY': '', 'U230_TH232_ACTIVITY': '', 'U238_TH230_ACTIVITY': '', 'AU': '', 'B': '', 'BA': '', 'BE': '', 'BI': '', 'BR': '', 'C': '', 'CR': '', 'CS': '', 'GA': '', 'GER': '', 'HF': '', 'HG': '', 'I': '', 'INDIUM': '', 'IR': '', 'K': '', 'LI': '', 'MO': '', 'N': '', 'NA': '', 'NB': '', 'OS': '255.2', 'OS_INI': '', 'P': '', 'PA': '', 'PB': '', 'PD': '', 'PT': '', 'RB': '', 'RE': '', 'RH': '', 'RU': '', 'SB': '', 'SC': '', 'SE': '', 'SN': '', 'SR': '', 'TA': '', 'TE': '', 'TH': '', 'TI': '', 'TL': '', 'U': '', 'V': '', 'W': '', 'Y': '', 'ZR': '', 'ZR2O3': '', 'DELTA_FE57': '', 'DELTA_O18': '', 'DELTA_B11': '', 'DELTA_C13': '', 'DELTA_CL37': '', 'DELTA_CA44': '', 'DELTA_CU65': '', 'DELTA_D': '', 'DELTA_FE56': '', 'DELTA_LI6': '', 'DELTA_LI7': '', 'DELTA_MG25': '', 'DELTA_MG26': '', 'DELTA_MO98': '', 'DELTA_N15': '', 'DELTA_NI60': '', 'DELTA_S33': '', 'DELTA_S34': '', 'CAP_DELTA_S33': '', 'CAP_DELTA_S36': '', 'DELTA_S36': '', 'DELTA_SI29': '', 'DELTA_SI30': '', 'DELTA_U238': '', 'DELTA_ZN66': '', 'DELTA_ZN68': '', 'AR40_AR36_INI': '', 'AR40_ATM': '', 'B11_B10': '', 'OS188': '', 'TL203_TL205': ''}\n",
      "\n"
     ]
    }
   ],
   "source": [
    "# This is how we can read a file with the csv module\n",
    "import csv\n",
    "\n",
    "i = 0\n",
    "\n",
    "with open('EarthChemSample.csv') as f:\n",
    "    reader = csv.DictReader(f, delimiter='\\t') # Creates a dictionary(data type based on key(one) and value pairs()) out of the\n",
    "    for row in reader:                         # initial csv file.\n",
    "        if i < 3:      \n",
    "            print(\"sample \" + str(i) + \": \") \n",
    "            print(row)\n",
    "            print()\n",
    "            i += 1                    \n",
    "        else:                          \n",
    "            break "
   ]
  },
  {
   "cell_type": "code",
   "execution_count": 55,
   "id": "8ba02d7d-ee58-4dbb-84a3-41ecf4a9cc8e",
   "metadata": {},
   "outputs": [],
   "source": [
    "## Lets write the first 100 latitudes into a file\n",
    "\n",
    "import csv\n",
    "\n",
    "i = 0\n",
    "lats = [0] * 100\n",
    "\n",
    "with open('EarthChemSample.csv') as fr:\n",
    "    reader = csv.DictReader(fr, delimiter='\\t') # Creates a dictionary(data type based on key(one) and value pairs()) out of the\n",
    "    for row in reader:                         # initial csv file.\n",
    "        if i < 100:      \n",
    "            lats[i] = float(row.get(\"LATITUDE\"))\n",
    "            i += 1\n",
    "        else:                          \n",
    "            break \n",
    "\n",
    "rows = []\n",
    "for lat in lats:\n",
    "    rows.append([lat])\n",
    "\n",
    "\n",
    "with open('lats.csv', 'w', newline='') as fw:\n",
    "    writer = csv.writer(fw)\n",
    "    header = [\"Lats\"]\n",
    "    writer.writerow(header)\n",
    "    writer.writerows(rows)"
   ]
  },
  {
   "cell_type": "markdown",
   "id": "dfc0d9f5-ff03-462c-befe-96a704b91ec7",
   "metadata": {},
   "source": [
    "### 2) Pandas"
   ]
  },
  {
   "cell_type": "markdown",
   "id": "3d3b8920-9ece-4ab2-9a67-7a31fab95c7e",
   "metadata": {},
   "source": [
    "#### Pandas is a Python library that was made to help Python programmers to perform data analysis tasks in a structured way. It has lots of functions and data types that facilitate this kind of programming."
   ]
  },
  {
   "cell_type": "code",
   "execution_count": 2,
   "id": "a7edf3a7-c3b3-421f-9fb0-ce6e3f956890",
   "metadata": {},
   "outputs": [],
   "source": [
    "## Lets call pandas into the notebook\n",
    "import pandas as pd\n",
    "## We can use the 'as' keyword to give libraries a nickname so we dont have to type out the names every time"
   ]
  },
  {
   "cell_type": "markdown",
   "id": "f8ff617c-0450-49c4-ad93-d306eb1f81f5",
   "metadata": {},
   "source": [
    "#### In pandas, there's two main kinds of data types, the series and the dataframe. The latter will be the one that we focus on for our needs here because it essentially mimics a table like format which is best to work on large pieces of data with."
   ]
  },
  {
   "cell_type": "code",
   "execution_count": 7,
   "id": "73e1bf6f-7166-4ad8-bdf6-2db456298808",
   "metadata": {},
   "outputs": [
    {
     "name": "stderr",
     "output_type": "stream",
     "text": [
      "/opt/conda/lib/python3.9/site-packages/IPython/core/interactiveshell.py:3098: DtypeWarning: Columns (1,4,13,33,102,164,256,372,373,374,375,378,384,388,392,393) have mixed types.Specify dtype option on import or set low_memory=False.\n",
      "  has_raised = await self.run_ast_nodes(code_ast.body, cell_name,\n"
     ]
    }
   ],
   "source": [
    "## Lets start off by bringing our csv file into our workspace and put it into a dataframe\n",
    "geo_df = pd.read_csv(\"EarthChemSample.csv\", sep='\\t', low_memory=False) ## Here, sep is the delimeter argument"
   ]
  },
  {
   "cell_type": "code",
   "execution_count": 8,
   "id": "b301fbb8-a2f4-463c-9cb6-6b7fbaa81988",
   "metadata": {},
   "outputs": [
    {
     "data": {
      "text/html": [
       "<div>\n",
       "<style scoped>\n",
       "    .dataframe tbody tr th:only-of-type {\n",
       "        vertical-align: middle;\n",
       "    }\n",
       "\n",
       "    .dataframe tbody tr th {\n",
       "        vertical-align: top;\n",
       "    }\n",
       "\n",
       "    .dataframe thead th {\n",
       "        text-align: right;\n",
       "    }\n",
       "</style>\n",
       "<table border=\"1\" class=\"dataframe\">\n",
       "  <thead>\n",
       "    <tr style=\"text-align: right;\">\n",
       "      <th></th>\n",
       "      <th>SAMPLE ID</th>\n",
       "      <th>IGSN</th>\n",
       "      <th>SOURCE</th>\n",
       "      <th>REFERENCE</th>\n",
       "      <th>CRUISE ID</th>\n",
       "      <th>LATITUDE</th>\n",
       "      <th>LONGITUDE</th>\n",
       "      <th>LOC PREC</th>\n",
       "      <th>MIN AGE</th>\n",
       "      <th>AGE</th>\n",
       "      <th>...</th>\n",
       "      <th>TL203_TL205</th>\n",
       "      <th>TI.1</th>\n",
       "      <th>AS.2</th>\n",
       "      <th>AS.3</th>\n",
       "      <th>GER.1</th>\n",
       "      <th>H2O_M.1</th>\n",
       "      <th>H2O_P.1</th>\n",
       "      <th>H2O_M.2</th>\n",
       "      <th>H2O_P.2</th>\n",
       "      <th>INDIUM.1</th>\n",
       "    </tr>\n",
       "  </thead>\n",
       "  <tbody>\n",
       "    <tr>\n",
       "      <th>0</th>\n",
       "      <td>SU20</td>\n",
       "      <td>NaN</td>\n",
       "      <td>GEOROC</td>\n",
       "      <td>JAKOBSSON, S. P., 1972</td>\n",
       "      <td>NaN</td>\n",
       "      <td>63.28</td>\n",
       "      <td>-20.65</td>\n",
       "      <td>0.01</td>\n",
       "      <td>NaN</td>\n",
       "      <td>NaN</td>\n",
       "      <td>...</td>\n",
       "      <td>NaN</td>\n",
       "      <td>NaN</td>\n",
       "      <td>NaN</td>\n",
       "      <td>NaN</td>\n",
       "      <td>NaN</td>\n",
       "      <td>NaN</td>\n",
       "      <td>NaN</td>\n",
       "      <td>NaN</td>\n",
       "      <td>NaN</td>\n",
       "      <td>NaN</td>\n",
       "    </tr>\n",
       "    <tr>\n",
       "      <th>1</th>\n",
       "      <td>OS208224</td>\n",
       "      <td>NaN</td>\n",
       "      <td>GEOROC</td>\n",
       "      <td>SKOVGAARD, A. C.; STOREY, M.; BAKER, J. A.; BL...</td>\n",
       "      <td>NaN</td>\n",
       "      <td>63.92</td>\n",
       "      <td>-21.48</td>\n",
       "      <td>0.01</td>\n",
       "      <td>NaN</td>\n",
       "      <td>NaN</td>\n",
       "      <td>...</td>\n",
       "      <td>NaN</td>\n",
       "      <td>5200.0</td>\n",
       "      <td>NaN</td>\n",
       "      <td>NaN</td>\n",
       "      <td>NaN</td>\n",
       "      <td>NaN</td>\n",
       "      <td>NaN</td>\n",
       "      <td>NaN</td>\n",
       "      <td>NaN</td>\n",
       "      <td>NaN</td>\n",
       "    </tr>\n",
       "    <tr>\n",
       "      <th>2</th>\n",
       "      <td>OS208224</td>\n",
       "      <td>NaN</td>\n",
       "      <td>GEOROC</td>\n",
       "      <td>SKOVGAARD, A. C.; STOREY, M.; BAKER, J. A.; BL...</td>\n",
       "      <td>NaN</td>\n",
       "      <td>63.92</td>\n",
       "      <td>-21.48</td>\n",
       "      <td>0.01</td>\n",
       "      <td>NaN</td>\n",
       "      <td>NaN</td>\n",
       "      <td>...</td>\n",
       "      <td>NaN</td>\n",
       "      <td>NaN</td>\n",
       "      <td>NaN</td>\n",
       "      <td>NaN</td>\n",
       "      <td>NaN</td>\n",
       "      <td>NaN</td>\n",
       "      <td>NaN</td>\n",
       "      <td>NaN</td>\n",
       "      <td>NaN</td>\n",
       "      <td>NaN</td>\n",
       "    </tr>\n",
       "    <tr>\n",
       "      <th>3</th>\n",
       "      <td>OS208224</td>\n",
       "      <td>NaN</td>\n",
       "      <td>GEOROC</td>\n",
       "      <td>JACKSON, M. G.; HART, S. R.; SAAL, A. E.; SHIM...</td>\n",
       "      <td>NaN</td>\n",
       "      <td>63.92</td>\n",
       "      <td>-21.48</td>\n",
       "      <td>0.01</td>\n",
       "      <td>NaN</td>\n",
       "      <td>NaN</td>\n",
       "      <td>...</td>\n",
       "      <td>NaN</td>\n",
       "      <td>NaN</td>\n",
       "      <td>NaN</td>\n",
       "      <td>NaN</td>\n",
       "      <td>NaN</td>\n",
       "      <td>NaN</td>\n",
       "      <td>NaN</td>\n",
       "      <td>NaN</td>\n",
       "      <td>NaN</td>\n",
       "      <td>NaN</td>\n",
       "    </tr>\n",
       "    <tr>\n",
       "      <th>4</th>\n",
       "      <td>OS208225</td>\n",
       "      <td>NaN</td>\n",
       "      <td>GEOROC</td>\n",
       "      <td>SKOVGAARD, A. C.; STOREY, M.; BAKER, J. A.; BL...</td>\n",
       "      <td>NaN</td>\n",
       "      <td>63.92</td>\n",
       "      <td>-21.48</td>\n",
       "      <td>0.01</td>\n",
       "      <td>NaN</td>\n",
       "      <td>NaN</td>\n",
       "      <td>...</td>\n",
       "      <td>NaN</td>\n",
       "      <td>5600.0</td>\n",
       "      <td>NaN</td>\n",
       "      <td>NaN</td>\n",
       "      <td>NaN</td>\n",
       "      <td>NaN</td>\n",
       "      <td>NaN</td>\n",
       "      <td>NaN</td>\n",
       "      <td>NaN</td>\n",
       "      <td>NaN</td>\n",
       "    </tr>\n",
       "  </tbody>\n",
       "</table>\n",
       "<p>5 rows × 412 columns</p>\n",
       "</div>"
      ],
      "text/plain": [
       "  SAMPLE ID IGSN  SOURCE                                          REFERENCE  \\\n",
       "0      SU20  NaN  GEOROC                             JAKOBSSON, S. P., 1972   \n",
       "1  OS208224  NaN  GEOROC  SKOVGAARD, A. C.; STOREY, M.; BAKER, J. A.; BL...   \n",
       "2  OS208224  NaN  GEOROC  SKOVGAARD, A. C.; STOREY, M.; BAKER, J. A.; BL...   \n",
       "3  OS208224  NaN  GEOROC  JACKSON, M. G.; HART, S. R.; SAAL, A. E.; SHIM...   \n",
       "4  OS208225  NaN  GEOROC  SKOVGAARD, A. C.; STOREY, M.; BAKER, J. A.; BL...   \n",
       "\n",
       "  CRUISE ID  LATITUDE  LONGITUDE  LOC PREC  MIN AGE  AGE  ...  TL203_TL205  \\\n",
       "0       NaN     63.28     -20.65      0.01      NaN  NaN  ...          NaN   \n",
       "1       NaN     63.92     -21.48      0.01      NaN  NaN  ...          NaN   \n",
       "2       NaN     63.92     -21.48      0.01      NaN  NaN  ...          NaN   \n",
       "3       NaN     63.92     -21.48      0.01      NaN  NaN  ...          NaN   \n",
       "4       NaN     63.92     -21.48      0.01      NaN  NaN  ...          NaN   \n",
       "\n",
       "     TI.1 AS.2 AS.3 GER.1  H2O_M.1  H2O_P.1  H2O_M.2  H2O_P.2  INDIUM.1  \n",
       "0     NaN  NaN  NaN   NaN      NaN      NaN      NaN      NaN       NaN  \n",
       "1  5200.0  NaN  NaN   NaN      NaN      NaN      NaN      NaN       NaN  \n",
       "2     NaN  NaN  NaN   NaN      NaN      NaN      NaN      NaN       NaN  \n",
       "3     NaN  NaN  NaN   NaN      NaN      NaN      NaN      NaN       NaN  \n",
       "4  5600.0  NaN  NaN   NaN      NaN      NaN      NaN      NaN       NaN  \n",
       "\n",
       "[5 rows x 412 columns]"
      ]
     },
     "execution_count": 8,
     "metadata": {},
     "output_type": "execute_result"
    }
   ],
   "source": [
    "## This will help us look at the first 5 rows\n",
    "geo_df.head() \n",
    "## See how the data is all beautifully organized all with two lines of code? Isn't python wonderful."
   ]
  },
  {
   "cell_type": "code",
   "execution_count": 10,
   "id": "ad40d942-0ce6-4202-94a9-b80bead30d67",
   "metadata": {},
   "outputs": [
    {
     "name": "stdout",
     "output_type": "stream",
     "text": [
      "Length: \n",
      "10296\n",
      "\n",
      "Shape: \n",
      "(10296, 412)\n",
      "\n",
      "Size: \n",
      "4241952\n",
      "\n",
      "Columns: \n",
      "Index(['SAMPLE ID', 'IGSN', 'SOURCE', 'REFERENCE', 'CRUISE ID', 'LATITUDE',\n",
      "       'LONGITUDE', 'LOC PREC', 'MIN AGE', 'AGE',\n",
      "       ...\n",
      "       'TL203_TL205', 'TI.1', 'AS.2', 'AS.3', 'GER.1', 'H2O_M.1', 'H2O_P.1',\n",
      "       'H2O_M.2', 'H2O_P.2', 'INDIUM.1'],\n",
      "      dtype='object', length=412)\n",
      "\n",
      "Data Types: \n",
      "SAMPLE ID     object\n",
      "IGSN          object\n",
      "SOURCE        object\n",
      "REFERENCE     object\n",
      "CRUISE ID     object\n",
      "              ...   \n",
      "H2O_M.1      float64\n",
      "H2O_P.1      float64\n",
      "H2O_M.2      float64\n",
      "H2O_P.2      float64\n",
      "INDIUM.1     float64\n",
      "Length: 412, dtype: object\n"
     ]
    }
   ],
   "source": [
    "## Lets get some of the meta data of this dataframe\n",
    "\n",
    "# How many rows?\n",
    "print(\"Length: \")\n",
    "print(len(geo_df))\n",
    "print()\n",
    "# How many rows and columns - returned as a tuple\n",
    "print(\"Shape: \")\n",
    "print(geo_df.shape)\n",
    "print()\n",
    "#How many 'cells' in the table\n",
    "print(\"Size: \")\n",
    "print(geo_df.size)\n",
    "print()\n",
    "# What are the column names\n",
    "print(\"Columns: \")\n",
    "print(geo_df.columns)\n",
    "print()\n",
    "# what are the data types of the columns?\n",
    "print(\"Data Types: \")\n",
    "print(geo_df.dtypes)"
   ]
  },
  {
   "cell_type": "code",
   "execution_count": 26,
   "id": "47f6f42c-ebcd-4817-9dd6-64337af3d1ea",
   "metadata": {},
   "outputs": [
    {
     "data": {
      "text/html": [
       "<div>\n",
       "<style scoped>\n",
       "    .dataframe tbody tr th:only-of-type {\n",
       "        vertical-align: middle;\n",
       "    }\n",
       "\n",
       "    .dataframe tbody tr th {\n",
       "        vertical-align: top;\n",
       "    }\n",
       "\n",
       "    .dataframe thead th {\n",
       "        text-align: right;\n",
       "    }\n",
       "</style>\n",
       "<table border=\"1\" class=\"dataframe\">\n",
       "  <thead>\n",
       "    <tr style=\"text-align: right;\">\n",
       "      <th></th>\n",
       "      <th>SAMPLE ID</th>\n",
       "      <th>SOURCE</th>\n",
       "      <th>REFERENCE</th>\n",
       "      <th>LATITUDE</th>\n",
       "      <th>LONGITUDE</th>\n",
       "      <th>MATERIAL</th>\n",
       "    </tr>\n",
       "  </thead>\n",
       "  <tbody>\n",
       "    <tr>\n",
       "      <th>0</th>\n",
       "      <td>SU20</td>\n",
       "      <td>GEOROC</td>\n",
       "      <td>JAKOBSSON, S. P., 1972</td>\n",
       "      <td>63.28</td>\n",
       "      <td>-20.65</td>\n",
       "      <td>igneous</td>\n",
       "    </tr>\n",
       "    <tr>\n",
       "      <th>1</th>\n",
       "      <td>OS208224</td>\n",
       "      <td>GEOROC</td>\n",
       "      <td>SKOVGAARD, A. C.; STOREY, M.; BAKER, J. A.; BL...</td>\n",
       "      <td>63.92</td>\n",
       "      <td>-21.48</td>\n",
       "      <td>igneous</td>\n",
       "    </tr>\n",
       "    <tr>\n",
       "      <th>2</th>\n",
       "      <td>OS208224</td>\n",
       "      <td>GEOROC</td>\n",
       "      <td>SKOVGAARD, A. C.; STOREY, M.; BAKER, J. A.; BL...</td>\n",
       "      <td>63.92</td>\n",
       "      <td>-21.48</td>\n",
       "      <td>igneous</td>\n",
       "    </tr>\n",
       "    <tr>\n",
       "      <th>3</th>\n",
       "      <td>OS208224</td>\n",
       "      <td>GEOROC</td>\n",
       "      <td>JACKSON, M. G.; HART, S. R.; SAAL, A. E.; SHIM...</td>\n",
       "      <td>63.92</td>\n",
       "      <td>-21.48</td>\n",
       "      <td>igneous</td>\n",
       "    </tr>\n",
       "    <tr>\n",
       "      <th>4</th>\n",
       "      <td>OS208225</td>\n",
       "      <td>GEOROC</td>\n",
       "      <td>SKOVGAARD, A. C.; STOREY, M.; BAKER, J. A.; BL...</td>\n",
       "      <td>63.92</td>\n",
       "      <td>-21.48</td>\n",
       "      <td>igneous</td>\n",
       "    </tr>\n",
       "  </tbody>\n",
       "</table>\n",
       "</div>"
      ],
      "text/plain": [
       "  SAMPLE ID  SOURCE                                          REFERENCE  \\\n",
       "0      SU20  GEOROC                             JAKOBSSON, S. P., 1972   \n",
       "1  OS208224  GEOROC  SKOVGAARD, A. C.; STOREY, M.; BAKER, J. A.; BL...   \n",
       "2  OS208224  GEOROC  SKOVGAARD, A. C.; STOREY, M.; BAKER, J. A.; BL...   \n",
       "3  OS208224  GEOROC  JACKSON, M. G.; HART, S. R.; SAAL, A. E.; SHIM...   \n",
       "4  OS208225  GEOROC  SKOVGAARD, A. C.; STOREY, M.; BAKER, J. A.; BL...   \n",
       "\n",
       "   LATITUDE  LONGITUDE MATERIAL  \n",
       "0     63.28     -20.65  igneous  \n",
       "1     63.92     -21.48  igneous  \n",
       "2     63.92     -21.48  igneous  \n",
       "3     63.92     -21.48  igneous  \n",
       "4     63.92     -21.48  igneous  "
      ]
     },
     "execution_count": 26,
     "metadata": {},
     "output_type": "execute_result"
    }
   ],
   "source": [
    "## Now lets work on extracting data from our dataframe\n",
    "some_cols = pd.read_csv(\"EarthChemSample.csv\", sep='\\t', usecols= [0,2,3,5,6,11], low_memory=False)\n",
    "some_cols.head()"
   ]
  },
  {
   "cell_type": "code",
   "execution_count": 27,
   "id": "ca58eef6-e403-48b7-81c4-51ca1fea9e59",
   "metadata": {},
   "outputs": [
    {
     "name": "stdout",
     "output_type": "stream",
     "text": [
      "0    GEOROC\n",
      "1    GEOROC\n",
      "2    GEOROC\n",
      "3    GEOROC\n",
      "4    GEOROC\n",
      "Name: SOURCE, dtype: object\n",
      "\n",
      "0    GEOROC\n",
      "1    GEOROC\n",
      "2    GEOROC\n",
      "3    GEOROC\n",
      "4    GEOROC\n",
      "Name: SOURCE, dtype: object\n"
     ]
    }
   ],
   "source": [
    "## With these two actions we can get the same result of getting the sources\n",
    "\n",
    "s1 = some_cols[\"SOURCE\"]\n",
    "\n",
    "s2 = some_cols.SOURCE\n",
    "\n",
    "print(s1.head())\n",
    "print()\n",
    "print(s2.head())"
   ]
  },
  {
   "cell_type": "code",
   "execution_count": 30,
   "id": "3bcfe110-8d41-43a4-af6e-9e748585d5b7",
   "metadata": {},
   "outputs": [
    {
     "data": {
      "text/html": [
       "<div>\n",
       "<style scoped>\n",
       "    .dataframe tbody tr th:only-of-type {\n",
       "        vertical-align: middle;\n",
       "    }\n",
       "\n",
       "    .dataframe tbody tr th {\n",
       "        vertical-align: top;\n",
       "    }\n",
       "\n",
       "    .dataframe thead th {\n",
       "        text-align: right;\n",
       "    }\n",
       "</style>\n",
       "<table border=\"1\" class=\"dataframe\">\n",
       "  <thead>\n",
       "    <tr style=\"text-align: right;\">\n",
       "      <th></th>\n",
       "      <th>LATITUDE</th>\n",
       "      <th>LONGITUDE</th>\n",
       "      <th>LOC PREC</th>\n",
       "      <th>MIN AGE</th>\n",
       "      <th>AGE</th>\n",
       "      <th>MAX AGE</th>\n",
       "      <th>MINERAL</th>\n",
       "      <th>SIO2</th>\n",
       "      <th>TIO2</th>\n",
       "      <th>AL2O3</th>\n",
       "      <th>...</th>\n",
       "      <th>TL203_TL205</th>\n",
       "      <th>TI.1</th>\n",
       "      <th>AS.2</th>\n",
       "      <th>AS.3</th>\n",
       "      <th>GER.1</th>\n",
       "      <th>H2O_M.1</th>\n",
       "      <th>H2O_P.1</th>\n",
       "      <th>H2O_M.2</th>\n",
       "      <th>H2O_P.2</th>\n",
       "      <th>INDIUM.1</th>\n",
       "    </tr>\n",
       "  </thead>\n",
       "  <tbody>\n",
       "    <tr>\n",
       "      <th>count</th>\n",
       "      <td>10296.000000</td>\n",
       "      <td>10296.000000</td>\n",
       "      <td>8484.000000</td>\n",
       "      <td>1224.000000</td>\n",
       "      <td>1151.000000</td>\n",
       "      <td>1225.000000</td>\n",
       "      <td>0.0</td>\n",
       "      <td>5273.000000</td>\n",
       "      <td>5340.000000</td>\n",
       "      <td>5216.000000</td>\n",
       "      <td>...</td>\n",
       "      <td>0.0</td>\n",
       "      <td>1023.000000</td>\n",
       "      <td>55.000000</td>\n",
       "      <td>55.000000</td>\n",
       "      <td>214.000000</td>\n",
       "      <td>697.000000</td>\n",
       "      <td>795.000000</td>\n",
       "      <td>697.000000</td>\n",
       "      <td>795.000000</td>\n",
       "      <td>190.000000</td>\n",
       "    </tr>\n",
       "    <tr>\n",
       "      <th>mean</th>\n",
       "      <td>57.152640</td>\n",
       "      <td>-26.424412</td>\n",
       "      <td>0.010965</td>\n",
       "      <td>0.994537</td>\n",
       "      <td>3.970211</td>\n",
       "      <td>2.764718</td>\n",
       "      <td>NaN</td>\n",
       "      <td>51.176236</td>\n",
       "      <td>1.473800</td>\n",
       "      <td>14.354616</td>\n",
       "      <td>...</td>\n",
       "      <td>NaN</td>\n",
       "      <td>7093.166245</td>\n",
       "      <td>0.387927</td>\n",
       "      <td>0.387927</td>\n",
       "      <td>1.584430</td>\n",
       "      <td>1.090215</td>\n",
       "      <td>1.073786</td>\n",
       "      <td>1.090215</td>\n",
       "      <td>1.073786</td>\n",
       "      <td>0.080942</td>\n",
       "    </tr>\n",
       "    <tr>\n",
       "      <th>std</th>\n",
       "      <td>6.671925</td>\n",
       "      <td>4.079112</td>\n",
       "      <td>0.047751</td>\n",
       "      <td>4.863307</td>\n",
       "      <td>57.374429</td>\n",
       "      <td>2.114404</td>\n",
       "      <td>NaN</td>\n",
       "      <td>5.781596</td>\n",
       "      <td>0.732473</td>\n",
       "      <td>1.779167</td>\n",
       "      <td>...</td>\n",
       "      <td>NaN</td>\n",
       "      <td>2060.465410</td>\n",
       "      <td>0.617877</td>\n",
       "      <td>0.617877</td>\n",
       "      <td>0.128304</td>\n",
       "      <td>0.990148</td>\n",
       "      <td>1.077369</td>\n",
       "      <td>0.990148</td>\n",
       "      <td>1.077369</td>\n",
       "      <td>0.012967</td>\n",
       "    </tr>\n",
       "    <tr>\n",
       "      <th>min</th>\n",
       "      <td>44.000000</td>\n",
       "      <td>-41.462000</td>\n",
       "      <td>0.000000</td>\n",
       "      <td>-0.002000</td>\n",
       "      <td>-0.000226</td>\n",
       "      <td>-0.000226</td>\n",
       "      <td>NaN</td>\n",
       "      <td>29.030000</td>\n",
       "      <td>0.030000</td>\n",
       "      <td>0.600000</td>\n",
       "      <td>...</td>\n",
       "      <td>NaN</td>\n",
       "      <td>0.170000</td>\n",
       "      <td>0.000000</td>\n",
       "      <td>0.000000</td>\n",
       "      <td>1.370000</td>\n",
       "      <td>0.000000</td>\n",
       "      <td>0.000000</td>\n",
       "      <td>0.000000</td>\n",
       "      <td>0.000000</td>\n",
       "      <td>0.058000</td>\n",
       "    </tr>\n",
       "    <tr>\n",
       "      <th>25%</th>\n",
       "      <td>49.882000</td>\n",
       "      <td>-29.480000</td>\n",
       "      <td>0.001000</td>\n",
       "      <td>0.000000</td>\n",
       "      <td>0.070000</td>\n",
       "      <td>1.806000</td>\n",
       "      <td>NaN</td>\n",
       "      <td>49.000000</td>\n",
       "      <td>1.150000</td>\n",
       "      <td>13.810000</td>\n",
       "      <td>...</td>\n",
       "      <td>NaN</td>\n",
       "      <td>6227.380000</td>\n",
       "      <td>0.208000</td>\n",
       "      <td>0.208000</td>\n",
       "      <td>1.507000</td>\n",
       "      <td>0.360000</td>\n",
       "      <td>0.320000</td>\n",
       "      <td>0.360000</td>\n",
       "      <td>0.320000</td>\n",
       "      <td>0.069000</td>\n",
       "    </tr>\n",
       "    <tr>\n",
       "      <th>50%</th>\n",
       "      <td>60.016700</td>\n",
       "      <td>-26.117000</td>\n",
       "      <td>0.001000</td>\n",
       "      <td>0.000000</td>\n",
       "      <td>0.923700</td>\n",
       "      <td>1.806000</td>\n",
       "      <td>NaN</td>\n",
       "      <td>50.150000</td>\n",
       "      <td>1.370000</td>\n",
       "      <td>14.260000</td>\n",
       "      <td>...</td>\n",
       "      <td>NaN</td>\n",
       "      <td>6875.040000</td>\n",
       "      <td>0.234000</td>\n",
       "      <td>0.234000</td>\n",
       "      <td>1.589000</td>\n",
       "      <td>0.840000</td>\n",
       "      <td>0.710000</td>\n",
       "      <td>0.840000</td>\n",
       "      <td>0.710000</td>\n",
       "      <td>0.081500</td>\n",
       "    </tr>\n",
       "    <tr>\n",
       "      <th>75%</th>\n",
       "      <td>63.187000</td>\n",
       "      <td>-24.238000</td>\n",
       "      <td>0.010000</td>\n",
       "      <td>1.806000</td>\n",
       "      <td>1.783000</td>\n",
       "      <td>5.332000</td>\n",
       "      <td>NaN</td>\n",
       "      <td>51.080000</td>\n",
       "      <td>1.640000</td>\n",
       "      <td>14.930000</td>\n",
       "      <td>...</td>\n",
       "      <td>NaN</td>\n",
       "      <td>7795.690000</td>\n",
       "      <td>0.289000</td>\n",
       "      <td>0.289000</td>\n",
       "      <td>1.658000</td>\n",
       "      <td>1.540000</td>\n",
       "      <td>1.500000</td>\n",
       "      <td>1.540000</td>\n",
       "      <td>1.500000</td>\n",
       "      <td>0.094000</td>\n",
       "    </tr>\n",
       "    <tr>\n",
       "      <th>max</th>\n",
       "      <td>64.030000</td>\n",
       "      <td>-16.650000</td>\n",
       "      <td>1.000000</td>\n",
       "      <td>84.000000</td>\n",
       "      <td>1800.000000</td>\n",
       "      <td>7.000000</td>\n",
       "      <td>NaN</td>\n",
       "      <td>80.840000</td>\n",
       "      <td>19.160000</td>\n",
       "      <td>30.360000</td>\n",
       "      <td>...</td>\n",
       "      <td>NaN</td>\n",
       "      <td>24188.000000</td>\n",
       "      <td>4.290000</td>\n",
       "      <td>4.290000</td>\n",
       "      <td>2.500000</td>\n",
       "      <td>5.940000</td>\n",
       "      <td>8.140000</td>\n",
       "      <td>5.940000</td>\n",
       "      <td>8.140000</td>\n",
       "      <td>0.100000</td>\n",
       "    </tr>\n",
       "  </tbody>\n",
       "</table>\n",
       "<p>8 rows × 390 columns</p>\n",
       "</div>"
      ],
      "text/plain": [
       "           LATITUDE     LONGITUDE     LOC PREC      MIN AGE          AGE  \\\n",
       "count  10296.000000  10296.000000  8484.000000  1224.000000  1151.000000   \n",
       "mean      57.152640    -26.424412     0.010965     0.994537     3.970211   \n",
       "std        6.671925      4.079112     0.047751     4.863307    57.374429   \n",
       "min       44.000000    -41.462000     0.000000    -0.002000    -0.000226   \n",
       "25%       49.882000    -29.480000     0.001000     0.000000     0.070000   \n",
       "50%       60.016700    -26.117000     0.001000     0.000000     0.923700   \n",
       "75%       63.187000    -24.238000     0.010000     1.806000     1.783000   \n",
       "max       64.030000    -16.650000     1.000000    84.000000  1800.000000   \n",
       "\n",
       "           MAX AGE  MINERAL         SIO2         TIO2        AL2O3  ...  \\\n",
       "count  1225.000000      0.0  5273.000000  5340.000000  5216.000000  ...   \n",
       "mean      2.764718      NaN    51.176236     1.473800    14.354616  ...   \n",
       "std       2.114404      NaN     5.781596     0.732473     1.779167  ...   \n",
       "min      -0.000226      NaN    29.030000     0.030000     0.600000  ...   \n",
       "25%       1.806000      NaN    49.000000     1.150000    13.810000  ...   \n",
       "50%       1.806000      NaN    50.150000     1.370000    14.260000  ...   \n",
       "75%       5.332000      NaN    51.080000     1.640000    14.930000  ...   \n",
       "max       7.000000      NaN    80.840000    19.160000    30.360000  ...   \n",
       "\n",
       "       TL203_TL205          TI.1       AS.2       AS.3       GER.1  \\\n",
       "count          0.0   1023.000000  55.000000  55.000000  214.000000   \n",
       "mean           NaN   7093.166245   0.387927   0.387927    1.584430   \n",
       "std            NaN   2060.465410   0.617877   0.617877    0.128304   \n",
       "min            NaN      0.170000   0.000000   0.000000    1.370000   \n",
       "25%            NaN   6227.380000   0.208000   0.208000    1.507000   \n",
       "50%            NaN   6875.040000   0.234000   0.234000    1.589000   \n",
       "75%            NaN   7795.690000   0.289000   0.289000    1.658000   \n",
       "max            NaN  24188.000000   4.290000   4.290000    2.500000   \n",
       "\n",
       "          H2O_M.1     H2O_P.1     H2O_M.2     H2O_P.2    INDIUM.1  \n",
       "count  697.000000  795.000000  697.000000  795.000000  190.000000  \n",
       "mean     1.090215    1.073786    1.090215    1.073786    0.080942  \n",
       "std      0.990148    1.077369    0.990148    1.077369    0.012967  \n",
       "min      0.000000    0.000000    0.000000    0.000000    0.058000  \n",
       "25%      0.360000    0.320000    0.360000    0.320000    0.069000  \n",
       "50%      0.840000    0.710000    0.840000    0.710000    0.081500  \n",
       "75%      1.540000    1.500000    1.540000    1.500000    0.094000  \n",
       "max      5.940000    8.140000    5.940000    8.140000    0.100000  \n",
       "\n",
       "[8 rows x 390 columns]"
      ]
     },
     "execution_count": 30,
     "metadata": {},
     "output_type": "execute_result"
    }
   ],
   "source": [
    "## Now, lets look at some data aggregation methods\n",
    "import pandas as pd\n",
    "geo_df = pd.read_csv(\"EarthChemSample.csv\", sep='\\t', low_memory=False) \n",
    "\n",
    "geo_df.describe() # this method call will give us some basic statistics and information about the dataframe"
   ]
  },
  {
   "cell_type": "markdown",
   "id": "4c45034d-6b1a-4d8b-a696-33b3c7b48d73",
   "metadata": {},
   "source": [
    "#### One issue we will see a lot with large volumes of data is missing values which will pop up in pandas as NaN values. Because of its frequency, there is a method to get rid of all the NaN values so that we can perform operations on it much easier."
   ]
  },
  {
   "cell_type": "code",
   "execution_count": 31,
   "id": "6415c00a-f7d3-430c-81e5-90813d77873a",
   "metadata": {},
   "outputs": [
    {
     "name": "stdout",
     "output_type": "stream",
     "text": [
      "(10296, 412)\n",
      "(0, 412)\n"
     ]
    }
   ],
   "source": [
    "## Read the file in\n",
    "geo_df = pd.read_csv(\"EarthChemSample.csv\", sep='\\t', low_memory=False) \n",
    "print(geo_df.shape)\n",
    "\n",
    "## Use dropna method to remove all the NaN values. The inplace flag keeps the cells there so as to not create holes in the df\n",
    "geo_df.dropna(inplace=True)\n",
    "print(geo_df.shape)"
   ]
  },
  {
   "cell_type": "code",
   "execution_count": 33,
   "id": "3f38eda4-1f4b-426a-b52c-2c1e56e471ae",
   "metadata": {},
   "outputs": [
    {
     "name": "stdout",
     "output_type": "stream",
     "text": [
      "(10296, 412)\n",
      "(10296, 412)\n"
     ]
    }
   ],
   "source": [
    "## Now lets see how we can replace NaN values with other, user chosen values\n",
    "## Read the file in\n",
    "geo_df = pd.read_csv(\"EarthChemSample.csv\", sep='\\t', low_memory=False) \n",
    "print(geo_df.shape)\n",
    "\n",
    "## Use fillna to fill the NaN values\n",
    "geo_df.fillna(0, inplace=True)\n",
    "print(geo_df.shape)"
   ]
  },
  {
   "cell_type": "markdown",
   "id": "9db42996-ca34-44ad-b0c0-4ffb7693093b",
   "metadata": {},
   "source": [
    "### 3) Numpy"
   ]
  },
  {
   "cell_type": "markdown",
   "id": "8f633286-7960-44ac-aa7c-c53121bd7029",
   "metadata": {},
   "source": [
    "#### Numpy is a scientific computing package in Python that is very often harnessed by almost all users. The strength of this library comes from the multiple data structures that can be accessed and the computationally quick functions we can perform on these data structures."
   ]
  },
  {
   "cell_type": "markdown",
   "id": "2fc5a1db-238e-4c2a-b92f-ab6ebd8e1180",
   "metadata": {},
   "source": [
    "#### At the core of Numpy exists the ndarray data structure. These arrays have a fixed size at creation, can only contain one data type, and allow us to access all of the propreitary Numpy functions."
   ]
  },
  {
   "cell_type": "code",
   "execution_count": 4,
   "id": "742f06ca-d05d-427b-82a2-3df2d2d68474",
   "metadata": {},
   "outputs": [],
   "source": [
    "## Lets first bring Numpy into our workspace with a nickanme for ease\n",
    "import numpy as np "
   ]
  },
  {
   "cell_type": "code",
   "execution_count": 3,
   "id": "bd71a434-40bb-498d-9299-ee6a868902c3",
   "metadata": {},
   "outputs": [
    {
     "name": "stdout",
     "output_type": "stream",
     "text": [
      "<class 'list'>\n",
      "<class 'numpy.ndarray'>\n"
     ]
    }
   ],
   "source": [
    "## There are a few ways to make a Numpy array:\n",
    "\n",
    "## First, we can make it by converting a regular Python list(of any dimensionality)\n",
    "myList = [1, 2, 3, 4]\n",
    "myNpList = np.array(myList)\n",
    "\n",
    "print(type(myList))\n",
    "print(type(myNpList))"
   ]
  },
  {
   "cell_type": "code",
   "execution_count": 9,
   "id": "07b84371-6485-47f2-b421-f5ac8c0c7e40",
   "metadata": {},
   "outputs": [
    {
     "name": "stdout",
     "output_type": "stream",
     "text": [
      "[0 1 2 3 4 5 6 7 8 9]\n",
      "\n",
      "[2.  2.5 3.  3.5 4.  4.5 5.  5.5 6.  6.5 7.  7.5]\n",
      "\n",
      "[1.         1.88888889 2.77777778 3.66666667 4.55555556 5.44444444\n",
      " 6.33333333 7.22222222 8.11111111 9.        ]\n"
     ]
    }
   ],
   "source": [
    "## Next we can use the Numpy methods arange() and linspace() to initialize arrays\n",
    "\n",
    "arr1 = np.arange(10) # This will create an array ranging from 0 to 10 with a default step of 1\n",
    "arr2 = np.arange(2, 8, dtype=float, step=.5) # Here we can modify start, stop, data type, and the step\n",
    "print(arr1)\n",
    "print()\n",
    "print(arr2)\n",
    "print()\n",
    "\n",
    "arr3 = np.linspace(1, 9, 10) # This will make an array of 10 elements equally spaced between the start and stop values\n",
    "print(arr3)"
   ]
  },
  {
   "cell_type": "code",
   "execution_count": 10,
   "id": "4b50b04c-4fa9-45b6-a837-a51b78a27731",
   "metadata": {},
   "outputs": [
    {
     "name": "stdout",
     "output_type": "stream",
     "text": [
      "arr1 = [1 2 3 4 5 6] ; arr2 = [1 2]\n",
      "arr2 = [1 2] ; arr3 = [2 3]\n"
     ]
    }
   ],
   "source": [
    "## Another way you can make np arrays are by replicating, joining, or mutating exiting arrays\n",
    "\n",
    "arr1 = np.array([1, 2, 3, 4, 5, 6])\n",
    "arr2 = arr1[0:2] # Slice arr1 from index zero to right before index two and return the resulting array\n",
    "print('arr1 =', arr1, '; arr2 =', arr2)\n",
    "\n",
    "arr3 = arr2.copy() # Copy arr2 into arr3\n",
    "arr3 += 1 # add 1 to all values of arr3\n",
    "print('arr2 =', arr2, '; arr3 =', arr3)\n",
    "\n"
   ]
  },
  {
   "cell_type": "code",
   "execution_count": 68,
   "id": "1974e438-7124-4bbb-9c2f-37f1a078248d",
   "metadata": {},
   "outputs": [
    {
     "name": "stdout",
     "output_type": "stream",
     "text": [
      "[63.28  63.92  63.92  63.92  63.92  63.92  63.93  63.93  63.93  63.93\n",
      " 63.93  63.855 63.855 63.908 63.997 63.687 63.815 63.815 63.815 63.815\n",
      " 64.    63.92  63.92  63.9   63.88  63.9   63.9   63.876 63.876 63.5\n",
      " 63.5   63.8   63.8   63.61  63.61  63.61  63.61  63.61  63.61  63.61\n",
      " 63.61  63.61  63.61  63.61  63.61  63.61  63.61  63.61  63.61  63.61\n",
      " 63.61  63.61  63.61  63.61  63.61  63.61  63.61  63.61  63.61  63.61\n",
      " 63.61  63.61  63.61  63.61  63.61  63.61  63.61  63.61  63.61  63.61\n",
      " 63.61  63.61  63.61  63.61  63.61  63.61  63.61  63.61  63.61  63.61\n",
      " 63.61  63.61  63.61  63.61  63.61  63.61  63.61  63.61  63.61  63.61\n",
      " 63.61  63.61  63.61  63.61  63.61  63.61  63.61  63.61  63.61  63.61 ]\n"
     ]
    }
   ],
   "source": [
    "## We can also use Numpy to open existing csv files\n",
    "\n",
    "geoArr = np.loadtxt('lats.csv', delimiter = ',', skiprows = 1) \n",
    "print(geoArr)"
   ]
  },
  {
   "cell_type": "code",
   "execution_count": 58,
   "id": "2918b9ce-3221-4749-9009-50fdde9af8a8",
   "metadata": {},
   "outputs": [
    {
     "name": "stdout",
     "output_type": "stream",
     "text": [
      "63.92\n",
      "\n",
      "63.61\n"
     ]
    }
   ],
   "source": [
    "## Numpy arrays can be indexed as usual, forwards and backwards\n",
    "\n",
    "val1 = geoArr[4]\n",
    "val2 = geoArr[-4]\n",
    "\n",
    "print(val1)\n",
    "print()\n",
    "print(val2)"
   ]
  },
  {
   "cell_type": "code",
   "execution_count": 67,
   "id": "388dc7a8-ec4a-4bd8-acc4-57e6508ae098",
   "metadata": {},
   "outputs": [
    {
     "name": "stdout",
     "output_type": "stream",
     "text": [
      "[[63.28  63.92  63.92  63.92  63.92  63.92  63.93  63.93  63.93  63.93\n",
      "  63.93  63.855 63.855 63.908 63.997 63.687 63.815 63.815 63.815 63.815\n",
      "  64.    63.92  63.92  63.9   63.88  63.9   63.9   63.876 63.876 63.5\n",
      "  63.5   63.8   63.8   63.61  63.61  63.61  63.61  63.61  63.61  63.61\n",
      "  63.61  63.61  63.61  63.61  63.61  63.61  63.61  63.61  63.61  63.61 ]\n",
      " [63.61  63.61  63.61  63.61  63.61  63.61  63.61  63.61  63.61  63.61\n",
      "  63.61  63.61  63.61  63.61  63.61  63.61  63.61  63.61  63.61  63.61\n",
      "  63.61  63.61  63.61  63.61  63.61  63.61  63.61  63.61  63.61  63.61\n",
      "  63.61  63.61  63.61  63.61  63.61  63.61  63.61  63.61  63.61  63.61\n",
      "  63.61  63.61  63.61  63.61  63.61  63.61  63.61  63.61  63.61  63.61 ]]\n"
     ]
    }
   ],
   "source": [
    "## You can also change the shape/dimensionality of any numpy array\n",
    "\n",
    "geoArr.shape = (2,50) # creates 2 arrays of 50 values each. These two values multiplied must be the total number of elements\n",
    "print(geoArr)"
   ]
  },
  {
   "cell_type": "code",
   "execution_count": 79,
   "id": "df316cff-2a16-4b10-a9e1-1f9f0295efe0",
   "metadata": {},
   "outputs": [
    {
     "name": "stdout",
     "output_type": "stream",
     "text": [
      "Min\n",
      "63.28\n",
      "\n",
      "Max\n",
      "64.0\n",
      "\n",
      "Standard Deviation\n",
      "0.13940288519252397\n",
      "\n",
      "Median\n",
      "63.61\n",
      "\n",
      "Sorted Arr\n",
      "[63.28  63.5   63.5   63.61  63.61  63.61  63.61  63.61  63.61  63.61\n",
      " 63.61  63.61  63.61  63.61  63.61  63.61  63.61  63.61  63.61  63.61\n",
      " 63.61  63.61  63.61  63.61  63.61  63.61  63.61  63.61  63.61  63.61\n",
      " 63.61  63.61  63.61  63.61  63.61  63.61  63.61  63.61  63.61  63.61\n",
      " 63.61  63.61  63.61  63.61  63.61  63.61  63.61  63.61  63.61  63.61\n",
      " 63.61  63.61  63.61  63.61  63.61  63.61  63.61  63.61  63.61  63.61\n",
      " 63.61  63.61  63.61  63.61  63.61  63.61  63.61  63.61  63.61  63.61\n",
      " 63.687 63.8   63.8   63.815 63.815 63.815 63.815 63.855 63.855 63.876\n",
      " 63.876 63.88  63.9   63.9   63.9   63.908 63.92  63.92  63.92  63.92\n",
      " 63.92  63.92  63.92  63.93  63.93  63.93  63.93  63.93  63.997 64.   ]\n",
      "\n",
      "Array formed from Uniform Distribution\n",
      "[0.9844079  0.97487003 0.51837443 0.21268628 0.2683061 ]\n",
      "\n",
      "Array with Random Ints\n",
      "[6 6 3 9 9 6 1 9 7 6]\n",
      "\n",
      "Array initialized with Zeros\n",
      "[[0 0 0 0 0 0 0 0]]\n",
      "\n",
      "Identity Matrix\n",
      "[[1. 0. 0. 0. 0.]\n",
      " [0. 1. 0. 0. 0.]\n",
      " [0. 0. 1. 0. 0.]\n",
      " [0. 0. 0. 1. 0.]\n",
      " [0. 0. 0. 0. 1.]]\n",
      "\n"
     ]
    }
   ],
   "source": [
    "## Now lets go over some of the most useful numpy functions\n",
    "\n",
    "minVal = geoArr.min()\n",
    "maxVal = geoArr.max()\n",
    "stdVal = geoArr.std()\n",
    "medianVal = np.median(geoArr)\n",
    "sortedVals = np.sort(geoArr)\n",
    "uniformSamples = np.random.uniform(low=0, high=1, size=5)\n",
    "randomVals = np.random.randint(0,10,10)\n",
    "zeroArr = np.zeros((1,8),dtype='int')\n",
    "identityMatrix = np.identity(5)\n",
    "\n",
    "print(\"Min\")\n",
    "print(minVal)\n",
    "print()\n",
    "print(\"Max\")\n",
    "print(maxVal)\n",
    "print()\n",
    "print(\"Standard Deviation\")\n",
    "print(stdVal)\n",
    "print()\n",
    "print(\"Median\")\n",
    "print(medianVal)\n",
    "print()\n",
    "print(\"Sorted Arr\")\n",
    "print(sortedVals)\n",
    "print()\n",
    "print(\"Array formed from Uniform Distribution\")\n",
    "print(uniformSamples)\n",
    "print()\n",
    "print(\"Array with Random Ints\")\n",
    "print(randomVals)\n",
    "print()\n",
    "print(\"Array initialized with Zeros\")\n",
    "print(zeroArr)\n",
    "print()\n",
    "print(\"Identity Matrix\")\n",
    "print(identityMatrix)\n",
    "print()"
   ]
  },
  {
   "cell_type": "markdown",
   "id": "7da56eac-b8e0-4aef-adb3-f061a9c1415c",
   "metadata": {},
   "source": [
    "### 4) MatPlotLib"
   ]
  },
  {
   "cell_type": "markdown",
   "id": "6df931dc-a39d-417c-8786-f0ddee99e229",
   "metadata": {},
   "source": [
    "#### Matplotlib is a Python library that can be used to produce graphs of many different flavours. There is a lot of internal customizability within Matplotlib that will allow us to get plots exactly the way we want them."
   ]
  },
  {
   "cell_type": "code",
   "execution_count": 9,
   "id": "7965277f-3418-483e-ae3d-8855e4e23ef2",
   "metadata": {},
   "outputs": [],
   "source": [
    "## Just like any other library, lets import Matplotlib in and give it a nickname\n",
    "## Most often, we'll be using the pyplot to make matplotlib work for us like MATLAB which is a common graphing language\n",
    "import matplotlib.pyplot as plt"
   ]
  },
  {
   "cell_type": "code",
   "execution_count": 3,
   "id": "a201328f-3929-4f5b-ba85-e6006e8bf98b",
   "metadata": {},
   "outputs": [],
   "source": [
    "## More often than not, we'll also need to import numpy and pandas to help us manipulate data to make our plots\n",
    "import pandas as pd\n",
    "import numpy as np"
   ]
  },
  {
   "cell_type": "code",
   "execution_count": 5,
   "id": "c28bfe9a-0e00-4f39-83c5-d547f4756830",
   "metadata": {},
   "outputs": [],
   "source": [
    "## Lets make some random data to plot using both numpy to generate numbers and pandas to create a proper data structure \n",
    "\n",
    "x1 = pd.Series(np.random.rand(20) - 0.5)\n",
    "y1 = pd.Series(np.random.rand(20) - 0.5)\n",
    "\n",
    "x2 = pd.Series(np.random.rand(20) + 0.5)\n",
    "y2 = pd.Series(np.random.rand(20) + 0.5)"
   ]
  },
  {
   "cell_type": "code",
   "execution_count": 8,
   "id": "af80c95a-cc0d-424a-8508-a8f864291dd7",
   "metadata": {},
   "outputs": [
    {
     "data": {
      "text/plain": [
       "Text(0, 0.5, 'Range of Y')"
      ]
     },
     "execution_count": 8,
     "metadata": {},
     "output_type": "execute_result"
    },
    {
     "data": {
      "image/png": "[encoded data removed]",
      "text/plain": [
       "<Figure size 432x288 with 1 Axes>"
      ]
     },
     "metadata": {
      "needs_background": "light"
     },
     "output_type": "display_data"
    }
   ],
   "source": [
    "## If we want to manipulate anything with the plot, we'll have to call methods on the plt nickname\n",
    "\n",
    "plt.title('Baby\\'s first Scatter Plot') # With this method we can set the title of the plot\n",
    "plt.xlabel('Range of X') # With this method we can set the label of the x-axis\n",
    "plt.ylabel('Range of Y') # With this method we can set the label of the y-axis"
   ]
  },
  {
   "cell_type": "code",
   "execution_count": 12,
   "id": "0018948e-d34c-4442-95e7-8974b81142ac",
   "metadata": {},
   "outputs": [
    {
     "data": {
      "image/png": "[encoded data removed]",
      "text/plain": [
       "<Figure size 432x288 with 1 Axes>"
      ]
     },
     "metadata": {
      "needs_background": "light"
     },
     "output_type": "display_data"
    }
   ],
   "source": [
    "## Now, let's put our points on the plot. We put in our x values, y values, a colour, and a label\n",
    "plt.scatter(x1, y1, c='red', label='Red Range')  \n",
    "plt.scatter(x2, y2, c='blue', label='Blue Range')\n",
    "\n",
    "## Next, we can add a legend and use the show() method to finally show our plot\n",
    "plt.legend(loc=4) # The location numbers increase in counter clockwise direction with #1 being in the top right\n",
    "plt.show()"
   ]
  },
  {
   "cell_type": "code",
   "execution_count": 14,
   "id": "f1126f1a-1923-4a87-b7b5-2a862860741b",
   "metadata": {},
   "outputs": [
    {
     "data": {
      "text/plain": [
       "<matplotlib.collections.PathCollection at 0x7f415b5ebe80>"
      ]
     },
     "execution_count": 14,
     "metadata": {},
     "output_type": "execute_result"
    },
    {
     "data": {
      "image/png": "[encoded data removed]",
      "text/plain": [
       "<Figure size 432x288 with 2 Axes>"
      ]
     },
     "metadata": {
      "needs_background": "light"
     },
     "output_type": "display_data"
    }
   ],
   "source": [
    "## Now lets try to convert this graph into two sublots in the same graph space\n",
    "\n",
    "plt.subplot(1,2,1) # 1 plot tall, 2 plots wide, put this plot in the first position\n",
    "plt.scatter(x1, y1, c='red', label='Red Range')  \n",
    "\n",
    "plt.subplot(1,2,2) # 1 plot tall, 2 plots wide, put this plot in the second position\n",
    "plt.scatter(x2, y2, c='blue', label='Blue Range')"
   ]
  },
  {
   "cell_type": "markdown",
   "id": "45f73493-df11-409e-87a4-68bd42aa8ef7",
   "metadata": {},
   "source": [
    "#### Alongside scatter plots, the other main plot types that are important to learn through matplotlib are: bar graphs, pie charts, box and whisker plots"
   ]
  },
  {
   "cell_type": "code",
   "execution_count": 24,
   "id": "086e96d1-f8ce-423a-b186-0c257bc6531f",
   "metadata": {},
   "outputs": [
    {
     "data": {
      "image/png": "[encoded data removed]",
      "text/plain": [
       "<Figure size 720x360 with 1 Axes>"
      ]
     },
     "metadata": {
      "needs_background": "light"
     },
     "output_type": "display_data"
    }
   ],
   "source": [
    "## Bar graph example\n",
    "\n",
    "import numpy as np\n",
    "import matplotlib.pyplot as plt\n",
    " \n",
    "## Lets make some basic data\n",
    "data = {'Justin':20, 'Dr.Block':40, 'Dr.Grossberg':10,'Tyler':25}\n",
    "\n",
    "names = list(data.keys())\n",
    "values = list(data.values())\n",
    "  \n",
    "fig = plt.figure(figsize = (10, 5)) # Here we are setting the side of out plotting area (these numbers are in inches)\n",
    " \n",
    "# Creating the bar plot by calling bar method. Pass in data, colour, and width between bars\n",
    "plt.bar(names, values, color ='purple', width = 0.4) \n",
    " \n",
    "plt.xlabel(\"Number of pet rocks\")\n",
    "plt.ylabel(\"Number of rocks\")\n",
    "plt.title(\"Pet rock population in Geo 101\")\n",
    "plt.show()"
   ]
  },
  {
   "cell_type": "code",
   "execution_count": 43,
   "id": "3766fcc3-4f77-45b3-864b-83871f544057",
   "metadata": {},
   "outputs": [
    {
     "data": {
      "image/png": "[encoded data removed]",
      "text/plain": [
       "<Figure size 720x504 with 1 Axes>"
      ]
     },
     "metadata": {},
     "output_type": "display_data"
    }
   ],
   "source": [
    "## Pie Chart example\n",
    "\n",
    "from matplotlib import pyplot as plt\n",
    "import numpy as np\n",
    " \n",
    "## Creating keys for the pie chart\n",
    "elements = ['Silicon', 'Carbon', 'Iron','Phosphor']\n",
    "\n",
    "## Creating quick, random \n",
    "data = np.random.rand(4)\n",
    " \n",
    "# Change the size of the figure\n",
    "fig = plt.figure(figsize =(10, 7))\n",
    "\n",
    "# Call the pie() method and pass in the data along side with the coordinated keys (treat data lists are key/value pairs)\n",
    "plt.pie(data, labels = elements)\n",
    "\n",
    "plt.title(\"Composition of Sample #1\")\n",
    "# Show plot\n",
    "plt.show()"
   ]
  },
  {
   "cell_type": "code",
   "execution_count": 63,
   "id": "642126cb-c8e9-48b3-bd70-5c0e7a0c8660",
   "metadata": {},
   "outputs": [
    {
     "data": {
      "image/png": "[encoded data removed]",
      "text/plain": [
       "<Figure size 504x360 with 1 Axes>"
      ]
     },
     "metadata": {
      "needs_background": "light"
     },
     "output_type": "display_data"
    }
   ],
   "source": [
    "## Box and Whisker plot example\n",
    "\n",
    "import matplotlib.pyplot as plt\n",
    "import numpy as np\n",
    "\n",
    "## np.random.normal(mean, standard deviation, number of samples)\n",
    "sample_1 = np.random.normal(50, 10, 200)\n",
    "sample_2 = np.random.normal(90, 20, 200)\n",
    "sample_3 = np.random.normal(73, 25, 200)\n",
    "sample_4 = np.random.normal(40, 10, 200)\n",
    "\n",
    "## Put all the data in one list so you can pass into boxplot method\n",
    "data_aggregate_list = [sample_1, sample_2, sample_3, sample_4]\n",
    " \n",
    "## Set the size of the plotting area\n",
    "fig = plt.figure(figsize =(7, 5))\n",
    " \n",
    "## Creating axes instance\n",
    "ax = fig.add_axes([0, 0, 1, 1]) # [x0 of plot, y0 of plot, width as a mult of canvas, height as a mult of canvas]\n",
    " \n",
    "## Call the boxplot method with the aggregate list of data\n",
    "bp = ax.boxplot(data_aggregate_list) \n",
    "\n",
    "plt.xlabel(\"Sample Number\")\n",
    "plt.ylabel(\"Sulfur Amounts\")\n",
    "plt.title(\"Box and Whisker plot of Sulfur Deposits in 4 Samples\")\n",
    "## Show plot\n",
    "plt.show()"
   ]
  },
  {
   "cell_type": "markdown",
   "id": "5dd548a0-b946-4e35-9668-a01896739df9",
   "metadata": {},
   "source": [
    "### 5) Basic Statistics"
   ]
  },
  {
   "cell_type": "markdown",
   "id": "9003c5cb-7516-4358-936d-e8247825ad3e",
   "metadata": {},
   "source": [
    "#### Python has its own in-built statistics module which will do a lot of the descriptive statistics the above modules can do, but the issue is that it is not as computationally strong as Numpy or Pandas. It is still readily used for quick and small calcultaions."
   ]
  },
  {
   "cell_type": "code",
   "execution_count": 64,
   "id": "f57b620e-fcc2-48e6-a4a7-ea7527be1c74",
   "metadata": {},
   "outputs": [],
   "source": [
    "## Let's bring the module into our workspace\n",
    "import statistics as stats"
   ]
  },
  {
   "cell_type": "markdown",
   "id": "442a9672-eb0d-4aa3-8a54-7a5e5f74f304",
   "metadata": {},
   "source": [
    "#### We have the following measures of central tendency\n",
    "\n",
    "##### mean() - Arithmetic mean of data.\n",
    "##### median() - Median of data.\n",
    "##### mode() -  Mode of the data.\n",
    "##### median_low() - Low median of data.\n",
    "##### median_high() - High median of data.\n",
    "\n",
    "##### All these methods take Python lists as input arguments."
   ]
  },
  {
   "cell_type": "markdown",
   "id": "4707a8f4-333b-4fc9-8ad7-06ca6058aabb",
   "metadata": {},
   "source": [
    "#### We have the following measures of variability\n",
    "\n",
    "##### stdev() - Standard deviation of data.\n",
    "##### variance() - Sample variance of data.\n",
    "\n",
    "##### Both these methods take Python lists as input arguments."
   ]
  },
  {
   "cell_type": "markdown",
   "id": "08e6884a-f7ea-4f36-9ff3-e2e23168c880",
   "metadata": {},
   "source": [
    "### The End"
   ]
  }
 ],
 "metadata": {
  "kernelspec": {
   "display_name": "Python 3 (ipykernel)",
   "language": "python",
   "name": "python3"
  },
  "language_info": {
   "codemirror_mode": {
    "name": "ipython",
    "version": 3
   },
   "file_extension": ".py",
   "mimetype": "text/x-python",
   "name": "python",
   "nbconvert_exporter": "python",
   "pygments_lexer": "ipython3",
   "version": "3.9.10"
  }
 },
 "nbformat": 4,
 "nbformat_minor": 5
}
