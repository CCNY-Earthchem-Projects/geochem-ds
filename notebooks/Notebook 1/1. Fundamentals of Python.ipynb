{
 "cells": [
  {
   "cell_type": "markdown",
   "id": "831baed6-518a-45d6-b70b-bea57f185d59",
   "metadata": {},
   "source": [
    "# Notebook #1: Fundamentals of Python"
   ]
  },
  {
   "cell_type": "markdown",
   "id": "392c58b3-4068-4faa-8ddc-49fe7aeb9cc4",
   "metadata": {},
   "source": [
    "## Table of Contents:\n",
    "###  1) What is Python?\n",
    "###  2) Data Types and Variables\n",
    "###  3) Lists\n",
    "###  4) Common In-Built Functions and Arithmatics\n",
    "###  5) Conditionals and Loops\n",
    "###  6) Functions\n",
    "###  7) Numpy"
   ]
  },
  {
   "cell_type": "markdown",
   "id": "f31fd2b1-e699-4887-9aaf-0ac1e07bf172",
   "metadata": {},
   "source": [
    "### Things to note before we start:"
   ]
  },
  {
   "cell_type": "markdown",
   "id": "23359359-0159-4457-98f4-c8ecc9f149f5",
   "metadata": {},
   "source": [
    "### 1) What is Python?"
   ]
  },
  {
   "cell_type": "markdown",
   "id": "c671fcc3-7e5b-4957-b5c3-4bc5d6cc985f",
   "metadata": {},
   "source": [
    "#### Python is a high-level(close to human language) general purpose programming language that is very popular and has permeated many differeent fields and use cases. Python is dynamically-typed and garbage-collected. It supports multiple programming paradigms, including structured, object-oriented and functional programming. \n",
    "\n",
    "#### Python is available on all major platforms (Windows, macOS, Linux) and its literal and metaphoric accessibility makes it a perfect tool for anyone to learn how to use."
   ]
  },
  {
   "cell_type": "markdown",
   "id": "475ae29d-138a-46a2-8eba-bcdf356229ef",
   "metadata": {},
   "source": [
    "### 2) Data Types and Variables"
   ]
  },
  {
   "cell_type": "markdown",
   "id": "efe7894a-c8ff-4d4d-ad1c-5aac3f1e774d",
   "metadata": {},
   "source": [
    "#### There are many different kinds of data types in Python. The two main catergories are in-built and user defined.\n",
    "#### Lets focus on in-built data types for now. (Integers, Floats, Strings, Chars, Booleans...)\n",
    "#### Since Python is loosely-typed, variable definition is very simple."
   ]
  },
  {
   "cell_type": "code",
   "execution_count": null,
   "id": "78280271-a808-476e-b0ae-53ff3bdd1614",
   "metadata": {},
   "outputs": [],
   "source": [
    "## Lets define a number with the value 25 now\n",
    "number = 25\n",
    "## This is an assignment. You are assigning the alue 25 to the variable name \"number\""
   ]
  },
  {
   "cell_type": "markdown",
   "id": "c2fc04e9-9287-4eeb-843e-a08078c322ef",
   "metadata": {},
   "source": [
    "#### Names can be almost anything. Refrain from using Python keywords as that will create errors you didn't intend.\n",
    "#### Make names that are meaningful, readable, and future-proof"
   ]
  },
  {
   "cell_type": "code",
   "execution_count": null,
   "id": "e54644ee-3faa-402b-9976-bb1d20763546",
   "metadata": {},
   "outputs": [],
   "source": [
    "## Now you try. Define a variable that holds the string \"Hello World\". To define a string, use quotes.\n",
    "hw = #put your answer here\n",
    "\n",
    "print(hw)"
   ]
  },
  {
   "cell_type": "code",
   "execution_count": null,
   "id": "35f63add-44de-4f18-85ae-34c0cb03839c",
   "metadata": {},
   "outputs": [],
   "source": [
    "## You can put any data type into a variable and you don't have to explicitly declare the type.\n",
    "var1 = 1\n",
    "var2 = 1.0\n",
    "var3 = \"one\"\n",
    "var4 = '1'\n",
    "var5 = True"
   ]
  },
  {
   "cell_type": "code",
   "execution_count": null,
   "id": "2cb73b4a-8a1a-4fbd-a3a5-e5322f6c7a6f",
   "metadata": {},
   "outputs": [],
   "source": [
    "## Variables can be reassigned after initialization with no issues\n",
    "initExample = 0\n",
    "print(initExample)\n",
    "\n",
    "## You can have other code here that either pertains or doesnt pertain to these variables, but in the end, when you \n",
    "## reassign, the value will undoubtedly change.\n",
    "\n",
    "initExample = 5\n",
    "print(initExample)\n",
    "\n",
    "## You can also initialize variables with other variables\n",
    "\n",
    "secondVar = initExample\n",
    "print(secondVar)"
   ]
  },
  {
   "cell_type": "code",
   "execution_count": null,
   "id": "c1cb7fda-6ce0-42f0-9ea5-6f55c8b37ba5",
   "metadata": {},
   "outputs": [],
   "source": [
    "## Changing the type of a variable that has been initialized is possible by the act of casting.\n",
    "## To cast a variable from one data type to another, simple wrap the varibale in a type function\n",
    "\n",
    "phoneNumber = 1234567890\n",
    "print(phoneNumber)\n",
    "print(type(phoneNumber))\n",
    "\n",
    "stringNumber = str(phoneNumber)\n",
    "print(stringNumber)\n",
    "print(type(stringNumber))\n",
    "\n",
    "## Other casting options include: int() and float()"
   ]
  },
  {
   "cell_type": "markdown",
   "id": "2fa55f2c-c178-44aa-945d-a809cf7e6701",
   "metadata": {},
   "source": [
    "### 3) Lists"
   ]
  },
  {
   "cell_type": "markdown",
   "id": "b4997bc6-3f6d-4842-b8a2-164a5bc8e0f1",
   "metadata": {},
   "source": [
    "#### Another common data type in Python is the list. Just like a regular list, Python lists are multiple objects all bound\n",
    "#### together by a common name and idea. Sure lists can be nonsensical, but most often they all attempt to accomplish\n",
    "#### one common goal."
   ]
  },
  {
   "cell_type": "code",
   "execution_count": null,
   "id": "ed7b5a9c-36b5-4ebc-b151-0026734ced94",
   "metadata": {},
   "outputs": [],
   "source": [
    "## To make a list, use square brackets and fill it up with anything you'd like or nothing if you want an empty list.\n",
    "\n",
    "myList = [1,2,3,4,5,6]\n",
    "\n",
    "print(myList)"
   ]
  },
  {
   "cell_type": "code",
   "execution_count": null,
   "id": "0ff93e55-a99c-4b2a-86c2-132d3d728415",
   "metadata": {},
   "outputs": [],
   "source": [
    "## Now you try. Define list of your favorite animals as strings\n",
    "animals = #put your answer here\n",
    "\n",
    "print(animals)"
   ]
  },
  {
   "cell_type": "markdown",
   "id": "3a36bc8b-d343-41e7-b1ce-90b7120aeb10",
   "metadata": {},
   "source": [
    "#### If you want to access a certain piece of information from the list, you can use the index number to retreive it.\n",
    "#### In computer science, most indexing starts at 0. \n",
    "#### (Bonus: negative indicies will go thru the list backwards, for example the last element will have the index -1)"
   ]
  },
  {
   "cell_type": "code",
   "execution_count": 1,
   "id": "4e8b7a03-4dd5-4ec8-b250-a4b584d41f92",
   "metadata": {},
   "outputs": [],
   "source": [
    "## myList = [\"a\",\"b\",\"c\",\"d\",\"e\",\"f\"]\n",
    "## indices:   0   1   2   3   4   5\n",
    "\n",
    "myList = [\"a\",\"b\",\"c\",\"d\",\"e\",\"f\"]\n",
    "\n",
    "## Lets get the element \"c\" out of the list\n",
    "\n",
    "elementC = myList[2]"
   ]
  },
  {
   "cell_type": "code",
   "execution_count": null,
   "id": "d70fd9d7-f315-436a-b016-ed066d3ee1e2",
   "metadata": {},
   "outputs": [],
   "source": [
    "## Now you try to get \"a\" and \"f\" out into their own variables\n",
    "\n",
    "elementA = #put your code here\n",
    "elementF = #put your code here\n",
    "\n",
    "print(elementA)\n",
    "print(elementF)"
   ]
  },
  {
   "cell_type": "code",
   "execution_count": null,
   "id": "42c81746-5777-4bc1-b58d-1dcb1847fc96",
   "metadata": {},
   "outputs": [],
   "source": [
    "## Lists can be appended on by using the append function or the += operator (which we will see in the next section)\n",
    "\n",
    "myList = [\"a\",\"b\",\"c\",\"d\",\"e\",\"f\"]\n",
    "\n",
    "myList += \"g\"\n",
    "myList.append(\"h\")\n",
    "\n",
    "print(myList)"
   ]
  },
  {
   "cell_type": "markdown",
   "id": "aa24118d-543e-480a-9c28-a97a7901c8e5",
   "metadata": {},
   "source": [
    "### 4) Common In-Built Functions and Arithmatics"
   ]
  },
  {
   "cell_type": "markdown",
   "id": "3956c33c-aaff-438d-98d1-a2b0a0d0e7b5",
   "metadata": {},
   "source": [
    "#### There are many functions you'll use in your beginner journey, these are a few of them you'll use a lot."
   ]
  },
  {
   "cell_type": "code",
   "execution_count": null,
   "id": "2dded6ee-0aba-488e-bd4d-dda7b20ff9f2",
   "metadata": {},
   "outputs": [],
   "source": [
    "print() # this prints whatever has been put inside the parenthesis\n",
    "type()  # this returns the type of the variable that is placed in the parenthesis\n",
    "len()   # this returns the length of the argument placed in the parenthesis\n",
    "range() # this will iterate over a range of values which are placed in the parenthesis (has extra args we can use)"
   ]
  },
  {
   "cell_type": "code",
   "execution_count": null,
   "id": "146eec4d-42a4-4b69-a572-1bb6c7ab5a10",
   "metadata": {},
   "outputs": [],
   "source": [
    "## You will also be wanting to do many arithmetic operations, most of which are included in Python. "
   ]
  },
  {
   "cell_type": "code",
   "execution_count": null,
   "id": "3046c5df-9e29-4ac8-96fa-b5b6fa6418c8",
   "metadata": {},
   "outputs": [],
   "source": [
    "+  # this is the addition operator\n",
    "-  # this is the subtraction operator\n",
    "*  # this is the multiplication operator\n",
    "/  # this is the division operator\n",
    "// # this is the exact division operator\n",
    "%  # this is the modulo operator\n",
    "** # this is the exponent operator\n",
    "!  # this is the not operator\n",
    "== # this is the equality operator\n",
    ">= # this is the greater than or equal to operator\n",
    "<= # this is the less than or equal to operator\n",
    "+= # this is the add/equal combo operator\n",
    "-= # this is the subtract/equal combo operator\n",
    "*= # this is the mulitply/equal combo operator\n",
    "/= # this is the divide/equal combo operator"
   ]
  },
  {
   "cell_type": "code",
   "execution_count": null,
   "id": "b5402cd6-2a1c-48d2-ae83-0ce2984e6b9c",
   "metadata": {},
   "outputs": [],
   "source": [
    "## Play around with a combo of the past 3 sections here. Try to compute some of your favorite math formulas!\n"
   ]
  },
  {
   "cell_type": "markdown",
   "id": "21413454-ca5d-43f3-bad0-693f44bff9e9",
   "metadata": {},
   "source": [
    "### 5) Conditionals and Loops"
   ]
  },
  {
   "cell_type": "markdown",
   "id": "111f8b28-db92-4ef8-b076-5adbb16b1618",
   "metadata": {},
   "source": [
    "#### Programs are rarely fully linear, so we'll need to add complexity. Conditionals, like in regular language, are statements that hinge on the truth value of a condition. "
   ]
  },
  {
   "cell_type": "code",
   "execution_count": null,
   "id": "0669743a-b4d2-4f80-8b84-7a2963ad44cb",
   "metadata": {},
   "outputs": [],
   "source": [
    "## For example, if I eat a burger, then I will be full. \n",
    "## The if statement is formed by a boolean statement (true or false) and an expression that will take place if true.\n",
    "eatBurger = True\n",
    "willBeFull = False # Just an initialization value\n",
    "\n",
    "if(eatBurger):\n",
    "    willBeFull = True"
   ]
  },
  {
   "cell_type": "code",
   "execution_count": null,
   "id": "b7679ab2-9dfe-456b-8a31-e69e6cbfea91",
   "metadata": {},
   "outputs": [],
   "source": [
    "## Just like regular conditionals, you will have else and else if statements with a very similar syntax.\n",
    "## You can stack a conditional tower like this.\n",
    "\n",
    "eatBurger = True\n",
    "eatSalad = True\n",
    "willBeFull = False # Just an initialization value\n",
    "\n",
    "if(eatBurger):\n",
    "    willBeFull = True\n",
    "elif(eatSalad):\n",
    "    willBeFull = False\n",
    "else:\n",
    "    willBeFull = False\n",
    "    \n",
    "# Try to write out the high level description of this code here:\n",
    "# "
   ]
  },
  {
   "cell_type": "markdown",
   "id": "bf7eda56-7be8-460b-8d16-fee598451c81",
   "metadata": {},
   "source": [
    "#### In Python, there are 2 main kinds of loops: the While loop and the For loop"
   ]
  },
  {
   "cell_type": "code",
   "execution_count": null,
   "id": "cc40ef53-d946-41eb-b3f1-d152f24f059a",
   "metadata": {},
   "outputs": [],
   "source": [
    "## The while loop performs an iterative action while a boolean condition is true\n",
    "\n",
    "ourBool = True\n",
    "x = 0\n",
    "\n",
    "while(ourBool):\n",
    "    x += 1\n",
    "    \n",
    "    if(x == 10):\n",
    "        ourBool = False\n",
    "        \n",
    "    print(x)\n",
    "\n",
    "# Try to write out the high level description of this code here:\n",
    "# "
   ]
  },
  {
   "cell_type": "code",
   "execution_count": null,
   "id": "54010d9c-ec94-4aae-b96a-c0941a5fa9a2",
   "metadata": {},
   "outputs": [],
   "source": [
    "## Write out a while loop that adds all the even numbers from 1 - 100\n",
    "\n"
   ]
  },
  {
   "cell_type": "code",
   "execution_count": null,
   "id": "3323136e-6b8d-4c43-a10c-85dafc380baa",
   "metadata": {},
   "outputs": [],
   "source": [
    "## The for loop performs and iterative action while the conditions in its initialization are true\n",
    "\n",
    "for(i in range(10)):\n",
    "    print(i)\n",
    "    \n",
    "# Try to write out the high level description of this code here:\n",
    "# "
   ]
  },
  {
   "cell_type": "code",
   "execution_count": null,
   "id": "20d34304-385d-4952-b545-5d86c058dcf4",
   "metadata": {},
   "outputs": [],
   "source": [
    "## Write out a for loop that creates the following output:\n",
    "## 1, 4, 9, 16, 25, 36, 49, 64, 81, 100\n",
    "\n"
   ]
  },
  {
   "cell_type": "markdown",
   "id": "727784bf-ed80-4863-be16-cc7501fa2e05",
   "metadata": {},
   "source": [
    "### 6) Functions"
   ]
  },
  {
   "cell_type": "markdown",
   "id": "0ccfa6e7-86d4-417a-8596-db1f404502bc",
   "metadata": {},
   "source": [
    "#### Functions are a method of abstraction. You use it to simplify logic behind black boxes which can be understood\n",
    "#### but isn't necessarily needed to be seen over and over again or is too large. "
   ]
  },
  {
   "cell_type": "code",
   "execution_count": null,
   "id": "c7ebcf2b-752b-4252-aa3c-610e030843f5",
   "metadata": {},
   "outputs": [],
   "source": [
    "## The syntax is as follows\n",
    "## 'def' is the function keyword\n",
    "## 'return' is the returning keyword. Return statements are optional and based on specification of the function\n",
    "\n",
    "def functionName(arguments):\n",
    "    # code you want to execute when the function is called\n",
    "    return x # this returns the value x to wherever the function was called. \n",
    "\n",
    "functionName(args) # to call a function you use its name and the specific arguments you want to give it"
   ]
  },
  {
   "cell_type": "code",
   "execution_count": null,
   "id": "f6b9b4d4-dc6d-41b7-acd7-3b3996f93e96",
   "metadata": {},
   "outputs": [],
   "source": [
    "## An example\n",
    "\n",
    "def plus(a, b):\n",
    "    c = a + b\n",
    "    return c\n",
    "\n",
    "plus(5, 6)"
   ]
  },
  {
   "cell_type": "code",
   "execution_count": null,
   "id": "649a2801-210c-465c-98c1-f4cca0523cf2",
   "metadata": {},
   "outputs": [],
   "source": [
    "## Make a function that sums the digits from a to b"
   ]
  },
  {
   "cell_type": "markdown",
   "id": "b3f7df78-b026-4ee9-9a0d-169b145cb6e7",
   "metadata": {},
   "source": [
    "### 7) External Libraries"
   ]
  },
  {
   "cell_type": "markdown",
   "id": "e6fb3b23-772d-46c8-9db8-277c31267f77",
   "metadata": {},
   "source": [
    "#### Python is a vast landscape of user created code for very niche and general puposes. So, some things may not be\n",
    "#### in-built. To deal with this, and to get some in-built functionality, you will have to import libraries of code.\n",
    "#### These libraries are black boxes of code that simplify a lot of actions you may not want to write out but just use.\n",
    "#### To use a library, import it and understand the documentation and proceed to use it."
   ]
  },
  {
   "cell_type": "code",
   "execution_count": null,
   "id": "ab877ee1-a824-4824-b079-03cee87ef3d0",
   "metadata": {},
   "outputs": [],
   "source": [
    "## Importing syntax\n",
    "import numpy"
   ]
  },
  {
   "cell_type": "code",
   "execution_count": null,
   "id": "d8f94a50-eb07-45b5-967e-522739f5c66a",
   "metadata": {},
   "outputs": [],
   "source": [
    "## If you want to give a library a shorter name to call as you use it you can use this syntax:\n",
    "import numpy as np"
   ]
  },
  {
   "cell_type": "code",
   "execution_count": null,
   "id": "042d2fda-1bc5-4707-b48d-f0c3d3eda11d",
   "metadata": {},
   "outputs": [],
   "source": [
    "## If you want to import a specific part of a library, you can use this syntax:\n",
    "from numpy import random"
   ]
  },
  {
   "cell_type": "markdown",
   "id": "afe2c6c4-bf61-4fb8-aa26-5b374f5e79c1",
   "metadata": {},
   "source": [
    "### The End"
   ]
  }
 ],
 "metadata": {
  "kernelspec": {
   "display_name": "Python 3 (ipykernel)",
   "language": "python",
   "name": "python3"
  },
  "language_info": {
   "codemirror_mode": {
    "name": "ipython",
    "version": 3
   },
   "file_extension": ".py",
   "mimetype": "text/x-python",
   "name": "python",
   "nbconvert_exporter": "python",
   "pygments_lexer": "ipython3",
   "version": "3.9.10"
  }
 },
 "nbformat": 4,
 "nbformat_minor": 5
}
