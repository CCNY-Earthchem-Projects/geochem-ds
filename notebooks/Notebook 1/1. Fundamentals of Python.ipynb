{
 "cells": [
  {
   "cell_type": "markdown",
   "id": "831baed6-518a-45d6-b70b-bea57f185d59",
   "metadata": {},
   "source": [
    "# Notebook #1: Fundamentals of Python"
   ]
  },
  {
   "cell_type": "markdown",
   "id": "392c58b3-4068-4faa-8ddc-49fe7aeb9cc4",
   "metadata": {},
   "source": [
    "## Table of Contents:\n",
    "###  1) What is Python?\n",
    "###  2) Data Types and Variables\n",
    "###  3) Lists\n",
    "###  4) Common In-Built Functions and Arithmatics\n",
    "###  5) Conditionals and Loops\n",
    "###  6) Functions\n",
    "###  7) Numpy"
   ]
  },
  {
   "cell_type": "markdown",
   "id": "f31fd2b1-e699-4887-9aaf-0ac1e07bf172",
   "metadata": {},
   "source": [
    "### Things to note before we start:"
   ]
  },
  {
   "cell_type": "markdown",
   "id": "23359359-0159-4457-98f4-c8ecc9f149f5",
   "metadata": {},
   "source": [
    "### 1) What is Python?"
   ]
  },
  {
   "cell_type": "markdown",
   "id": "c671fcc3-7e5b-4957-b5c3-4bc5d6cc985f",
   "metadata": {},
   "source": [
    "#### Python is a high-level(close to human language) general purpose programming language that is very popular and has permeated many differeent fields and use cases. Python is dynamically-typed and garbage-collected. It supports multiple programming paradigms, including structured, object-oriented and functional programming. \n",
    "\n",
    "#### Python is available on all major platforms (Windows, macOS, Linux) and its literal and metaphoric accessibility makes it a perfect tool for anyone to learn how to use.\n",
    "\n",
    "\n",
    "#### If you want to look deeply into what Python has to offer, the documentation is a wonderful place to start: https://docs.python.org/3/.\n",
    "#### Documentation is best skimmed through before full learning something and can be used as a quick reference when we forget something in the heat of coding and need a little refresher filled with examples. Programmers use all the resources they can to the best of their ability to make their code work."
   ]
  },
  {
   "cell_type": "markdown",
   "id": "475ae29d-138a-46a2-8eba-bcdf356229ef",
   "metadata": {},
   "source": [
    "### 2) Data Types and Variables"
   ]
  },
  {
   "cell_type": "markdown",
   "id": "efe7894a-c8ff-4d4d-ad1c-5aac3f1e774d",
   "metadata": {},
   "source": [
    "#### There are many different kinds of data types in Python. The two main catergories are in-built and user defined.\n",
    "#### Lets focus on in-built data types for now. (Integers, Floats, Strings, Chars, Booleans...)\n",
    "#### Since Python is loosely-typed, variable definition is very simple."
   ]
  },
  {
   "cell_type": "markdown",
   "id": "8f18af0d-b1fe-4fe8-8f55-0ccae9ba540a",
   "metadata": {},
   "source": [
    "##### Lets define a number with the value 25 now"
   ]
  },
  {
   "cell_type": "code",
   "execution_count": null,
   "id": "78280271-a808-476e-b0ae-53ff3bdd1614",
   "metadata": {},
   "outputs": [],
   "source": [
    "number = 25"
   ]
  },
  {
   "cell_type": "markdown",
   "id": "c26faee9-317a-4c4e-ae17-640c50171063",
   "metadata": {},
   "source": [
    "##### This is an assignment. You are assigning the alue 25 to the variable name \"number\""
   ]
  },
  {
   "cell_type": "markdown",
   "id": "c2fc04e9-9287-4eeb-843e-a08078c322ef",
   "metadata": {},
   "source": [
    "#### Names can be almost anything. Refrain from using Python keywords as that will create errors you didn't intend.\n",
    "#### Make names that are meaningful, readable, and future-proof"
   ]
  },
  {
   "cell_type": "markdown",
   "id": "fc79cb10-935f-44cd-93ac-fc55679647c9",
   "metadata": {},
   "source": [
    "##### Now you try. Define a variable that holds the string \"Hello World\". To define a string, use quotes."
   ]
  },
  {
   "cell_type": "code",
   "execution_count": null,
   "id": "e54644ee-3faa-402b-9976-bb1d20763546",
   "metadata": {},
   "outputs": [],
   "source": [
    "hw = #put your answer here\n",
    "\n",
    "print(hw)"
   ]
  },
  {
   "cell_type": "markdown",
   "id": "e388f3c5-c7be-47a5-88fa-5d1d4fcd220a",
   "metadata": {},
   "source": [
    "##### You can put any data type into a variable and you don't have to explicitly declare the type."
   ]
  },
  {
   "cell_type": "code",
   "execution_count": null,
   "id": "35f63add-44de-4f18-85ae-34c0cb03839c",
   "metadata": {},
   "outputs": [],
   "source": [
    "var1 = 1\n",
    "var2 = 1.0\n",
    "var3 = \"one\"\n",
    "var4 = '1'\n",
    "var5 = True"
   ]
  },
  {
   "cell_type": "markdown",
   "id": "57ab7261-101b-4cd8-9ed7-669f7f4e7d74",
   "metadata": {},
   "source": [
    "##### Variables can be reassigned after initialization with no issues"
   ]
  },
  {
   "cell_type": "code",
   "execution_count": null,
   "id": "2cb73b4a-8a1a-4fbd-a3a5-e5322f6c7a6f",
   "metadata": {},
   "outputs": [],
   "source": [
    "initExample = 0\n",
    "print(initExample)"
   ]
  },
  {
   "cell_type": "markdown",
   "id": "50ee2ee7-2589-49a8-8ff0-5ef622aac917",
   "metadata": {},
   "source": [
    "##### You can have other code here that either pertains or doesnt pertain to these variables, but in the end, when you  reassign, the value will undoubtedly change."
   ]
  },
  {
   "cell_type": "code",
   "execution_count": null,
   "id": "6bb3ba1c-4041-4a57-9ccb-c259f2fd6124",
   "metadata": {},
   "outputs": [],
   "source": [
    "initExample = 5\n",
    "print(initExample)"
   ]
  },
  {
   "cell_type": "markdown",
   "id": "1fb7d95b-a9c1-4db5-9d94-68ddd28f4652",
   "metadata": {},
   "source": [
    "##### You can also initialize variables with other variables"
   ]
  },
  {
   "cell_type": "code",
   "execution_count": null,
   "id": "5fe51fab-f59d-4361-9859-a22a500592b0",
   "metadata": {},
   "outputs": [],
   "source": [
    "secondVar = initExample\n",
    "print(secondVar)"
   ]
  },
  {
   "cell_type": "markdown",
   "id": "76963871-eec9-4241-a819-c59be68fdb05",
   "metadata": {},
   "source": [
    "##### Changing the type of a variable that has been initialized is possible by the act of casting.To cast a variable from one data type to another, simple wrap the variable in a type function"
   ]
  },
  {
   "cell_type": "code",
   "execution_count": null,
   "id": "c1cb7fda-6ce0-42f0-9ea5-6f55c8b37ba5",
   "metadata": {},
   "outputs": [],
   "source": [
    "phoneNumber = 1234567890\n",
    "print(phoneNumber)\n",
    "print(type(phoneNumber))\n",
    "\n",
    "stringNumber = str(phoneNumber)\n",
    "print(stringNumber)\n",
    "print(type(stringNumber))"
   ]
  },
  {
   "cell_type": "markdown",
   "id": "41f5fa83-e7a3-492e-bc10-7bd3cac20477",
   "metadata": {},
   "source": [
    "##### Other casting options include: int() and float()"
   ]
  },
  {
   "cell_type": "markdown",
   "id": "2fa55f2c-c178-44aa-945d-a809cf7e6701",
   "metadata": {},
   "source": [
    "### 3) Lists"
   ]
  },
  {
   "cell_type": "markdown",
   "id": "b4997bc6-3f6d-4842-b8a2-164a5bc8e0f1",
   "metadata": {},
   "source": [
    "#### Another common data type in Python is the list. Just like a regular list, Python lists are multiple objects all bound\n",
    "#### together by a common name and idea. Sure lists can be nonsensical, but most often they all attempt to accomplish\n",
    "#### one common goal."
   ]
  },
  {
   "cell_type": "markdown",
   "id": "8b76f643-ea55-4423-b463-938ea8adb48f",
   "metadata": {},
   "source": [
    "##### To make a list, use square brackets and fill it up with anything you'd like or nothing if you want an empty list."
   ]
  },
  {
   "cell_type": "code",
   "execution_count": null,
   "id": "ed7b5a9c-36b5-4ebc-b151-0026734ced94",
   "metadata": {},
   "outputs": [],
   "source": [
    "myList = [1,2,3,4,5,6]\n",
    "\n",
    "print(myList)"
   ]
  },
  {
   "cell_type": "markdown",
   "id": "c055f061-f151-4e8b-881b-c2efff71cd5e",
   "metadata": {},
   "source": [
    "##### Now you try. Define list of your favorite animals as strings"
   ]
  },
  {
   "cell_type": "code",
   "execution_count": null,
   "id": "0ff93e55-a99c-4b2a-86c2-132d3d728415",
   "metadata": {},
   "outputs": [],
   "source": [
    "animals = #put your answer here\n",
    "\n",
    "print(animals)"
   ]
  },
  {
   "cell_type": "markdown",
   "id": "3a36bc8b-d343-41e7-b1ce-90b7120aeb10",
   "metadata": {},
   "source": [
    "#### If you want to access a certain piece of information from the list, you can use the index number to retreive it.\n",
    "#### In computer science, most indexing starts at 0. \n",
    "#### (Bonus: negative indicies will go thru the list backwards, for example the last element will have the index -1)"
   ]
  },
  {
   "cell_type": "markdown",
   "id": "6a1c9596-5e2c-43c4-9be1-cb71ab412826",
   "metadata": {},
   "source": [
    "##### myList = [\"a\",\"b\",\"c\",\"d\",\"e\",\"f\"]\n",
    "##### indices:   0   1   2   3   4   5\n"
   ]
  },
  {
   "cell_type": "code",
   "execution_count": 1,
   "id": "4e8b7a03-4dd5-4ec8-b250-a4b584d41f92",
   "metadata": {},
   "outputs": [],
   "source": [
    "myList = [\"a\",\"b\",\"c\",\"d\",\"e\",\"f\"]"
   ]
  },
  {
   "cell_type": "markdown",
   "id": "a234f091-980e-426d-9248-36222c38e796",
   "metadata": {},
   "source": [
    "##### Lets get the element \"c\" out of the list"
   ]
  },
  {
   "cell_type": "code",
   "execution_count": null,
   "id": "08db0588-ae21-4be3-9b12-1211da8d93fd",
   "metadata": {},
   "outputs": [],
   "source": [
    "elementC = myList[2]"
   ]
  },
  {
   "cell_type": "markdown",
   "id": "5d74130a-581b-4f98-8293-ed1d7c1a0898",
   "metadata": {},
   "source": [
    "##### Now you try to get \"a\" and \"f\" out into their own variables"
   ]
  },
  {
   "cell_type": "code",
   "execution_count": null,
   "id": "d70fd9d7-f315-436a-b016-ed066d3ee1e2",
   "metadata": {},
   "outputs": [],
   "source": [
    "elementA = #put your code here\n",
    "elementF = #put your code here\n",
    "\n",
    "print(elementA)\n",
    "print(elementF)"
   ]
  },
  {
   "cell_type": "markdown",
   "id": "1eded6ec-9057-48ed-aa8f-ac8d86f1e1ce",
   "metadata": {},
   "source": [
    "##### Lists can be appended on by using the append function or the += operator (which we will see in the next section)"
   ]
  },
  {
   "cell_type": "code",
   "execution_count": null,
   "id": "42c81746-5777-4bc1-b58d-1dcb1847fc96",
   "metadata": {},
   "outputs": [],
   "source": [
    "myList = [\"a\",\"b\",\"c\",\"d\",\"e\",\"f\"]\n",
    "\n",
    "myList += \"g\"\n",
    "myList.append(\"h\")\n",
    "\n",
    "print(myList)"
   ]
  },
  {
   "cell_type": "markdown",
   "id": "aa24118d-543e-480a-9c28-a97a7901c8e5",
   "metadata": {},
   "source": [
    "### 4) Common In-Built Functions and Arithmatics"
   ]
  },
  {
   "cell_type": "markdown",
   "id": "3956c33c-aaff-438d-98d1-a2b0a0d0e7b5",
   "metadata": {},
   "source": [
    "#### There are many functions you'll use in your beginner journey, these are a few of them you'll use a lot."
   ]
  },
  {
   "cell_type": "code",
   "execution_count": null,
   "id": "2dded6ee-0aba-488e-bd4d-dda7b20ff9f2",
   "metadata": {},
   "outputs": [],
   "source": [
    "print() # this prints whatever has been put inside the parenthesis\n",
    "type()  # this returns the type of the variable that is placed in the parenthesis\n",
    "len()   # this returns the length of the argument placed in the parenthesis\n",
    "range() # this will iterate over a range of values which are placed in the parenthesis (has extra args we can use)"
   ]
  },
  {
   "cell_type": "markdown",
   "id": "92ad611b-7aad-4856-a6ba-b2f2c4f692c4",
   "metadata": {},
   "source": [
    "#### You will also be wanting to do many arithmetic operations, most of which are included in Python. "
   ]
  },
  {
   "cell_type": "code",
   "execution_count": null,
   "id": "3046c5df-9e29-4ac8-96fa-b5b6fa6418c8",
   "metadata": {},
   "outputs": [],
   "source": [
    "+  # this is the addition operator\n",
    "-  # this is the subtraction operator\n",
    "*  # this is the multiplication operator\n",
    "/  # this is the division operator\n",
    "// # this is the exact division operator\n",
    "%  # this is the modulo operator\n",
    "** # this is the exponent operator\n",
    "!  # this is the not operator\n",
    "== # this is the equality operator\n",
    ">= # this is the greater than or equal to operator\n",
    "<= # this is the less than or equal to operator\n",
    "+= # this is the add/equal combo operator\n",
    "-= # this is the subtract/equal combo operator\n",
    "*= # this is the mulitply/equal combo operator\n",
    "/= # this is the divide/equal combo operator"
   ]
  },
  {
   "cell_type": "markdown",
   "id": "c6fc07d4-3a79-4b8c-9a90-a328e50834b4",
   "metadata": {},
   "source": [
    "#### Play around with a combo of the past 3 sections here. Try to compute some of your favorite math formulas!"
   ]
  },
  {
   "cell_type": "markdown",
   "id": "21413454-ca5d-43f3-bad0-693f44bff9e9",
   "metadata": {},
   "source": [
    "### 5) Conditionals and Loops"
   ]
  },
  {
   "cell_type": "markdown",
   "id": "111f8b28-db92-4ef8-b076-5adbb16b1618",
   "metadata": {},
   "source": [
    "#### Programs are rarely fully linear, so we'll need to add complexity. Conditionals, like in regular language, are statements that hinge on the truth value of a condition. "
   ]
  },
  {
   "cell_type": "markdown",
   "id": "72f51c7a-200e-4bea-80df-180196f1be12",
   "metadata": {},
   "source": [
    "##### For example, if I eat a burger, then I will be full. \n",
    "##### The if statement is formed by a boolean statement (true or false) and an expression that will take place if true."
   ]
  },
  {
   "cell_type": "code",
   "execution_count": null,
   "id": "0669743a-b4d2-4f80-8b84-7a2963ad44cb",
   "metadata": {},
   "outputs": [],
   "source": [
    "eatBurger = True\n",
    "willBeFull = False # Just an initialization value\n",
    "\n",
    "if(eatBurger):\n",
    "    willBeFull = True"
   ]
  },
  {
   "cell_type": "markdown",
   "id": "1daed2ce-6d16-4640-b08f-63811250efdc",
   "metadata": {},
   "source": [
    "##### Just like regular conditionals, you will have else and else if statements with a very similar syntax.\n",
    "##### You can stack a conditional tower like this."
   ]
  },
  {
   "cell_type": "code",
   "execution_count": null,
   "id": "b7679ab2-9dfe-456b-8a31-e69e6cbfea91",
   "metadata": {},
   "outputs": [],
   "source": [
    "eatBurger = True\n",
    "eatSalad = True\n",
    "willBeFull = False # Just an initialization value\n",
    "\n",
    "if(eatBurger):\n",
    "    willBeFull = True\n",
    "elif(eatSalad):\n",
    "    willBeFull = False\n",
    "else:\n",
    "    willBeFull = False\n",
    "    \n",
    "# Try to write out the high level description of this code here:\n",
    "# "
   ]
  },
  {
   "cell_type": "markdown",
   "id": "bf7eda56-7be8-460b-8d16-fee598451c81",
   "metadata": {},
   "source": [
    "#### In Python, there are 2 main kinds of loops: the While loop and the For loop"
   ]
  },
  {
   "cell_type": "markdown",
   "id": "9dca4244-24ae-4137-86c3-f030728af7a9",
   "metadata": {},
   "source": [
    "##### The while loop performs an iterative action while a boolean condition is true:"
   ]
  },
  {
   "cell_type": "code",
   "execution_count": null,
   "id": "cc40ef53-d946-41eb-b3f1-d152f24f059a",
   "metadata": {},
   "outputs": [],
   "source": [
    "ourBool = True\n",
    "x = 0\n",
    "\n",
    "while(ourBool):\n",
    "    x += 1\n",
    "    \n",
    "    if(x == 10):\n",
    "        ourBool = False\n",
    "        \n",
    "    print(x)\n",
    "\n",
    "# Try to write out the high level description of this code here:\n",
    "# "
   ]
  },
  {
   "cell_type": "code",
   "execution_count": null,
   "id": "54010d9c-ec94-4aae-b96a-c0941a5fa9a2",
   "metadata": {},
   "outputs": [],
   "source": [
    "## Write out a while loop that adds all the even numbers from 1 - 100\n",
    "\n"
   ]
  },
  {
   "cell_type": "markdown",
   "id": "fda1c011-f4d8-4bf3-a9d5-8e2c7309965c",
   "metadata": {},
   "source": [
    "##### The for loop performs and iterative action while the conditions in its initialization are true"
   ]
  },
  {
   "cell_type": "code",
   "execution_count": null,
   "id": "3323136e-6b8d-4c43-a10c-85dafc380baa",
   "metadata": {},
   "outputs": [],
   "source": [
    "for(i in range(10)):\n",
    "    print(i)\n",
    "    \n",
    "# Try to write out the high level description of this code here:\n",
    "# "
   ]
  },
  {
   "cell_type": "code",
   "execution_count": null,
   "id": "20d34304-385d-4952-b545-5d86c058dcf4",
   "metadata": {},
   "outputs": [],
   "source": [
    "## Write out a for loop that creates the following output:\n",
    "## 1, 4, 9, 16, 25, 36, 49, 64, 81, 100\n",
    "\n"
   ]
  },
  {
   "cell_type": "markdown",
   "id": "727784bf-ed80-4863-be16-cc7501fa2e05",
   "metadata": {},
   "source": [
    "### 6) Functions"
   ]
  },
  {
   "cell_type": "markdown",
   "id": "0ccfa6e7-86d4-417a-8596-db1f404502bc",
   "metadata": {},
   "source": [
    "#### Functions are a method of abstraction. You use it to simplify logic behind black boxes which can be understood\n",
    "#### but isn't necessarily needed to be seen over and over again or is too large. "
   ]
  },
  {
   "cell_type": "markdown",
   "id": "8a8dcc46-36a2-48a1-8633-1932772a53ed",
   "metadata": {},
   "source": [
    "##### The syntax is as follows:\n",
    "##### 'def' is the function keyword\n",
    "##### 'return' is the returning keyword. Return statements are optional and based on specification of the function"
   ]
  },
  {
   "cell_type": "code",
   "execution_count": null,
   "id": "c7ebcf2b-752b-4252-aa3c-610e030843f5",
   "metadata": {},
   "outputs": [],
   "source": [
    "def functionName(arguments):\n",
    "    # code you want to execute when the function is called\n",
    "    return x # this returns the value x to wherever the function was called. \n",
    "\n",
    "functionName(args) # to call a function you use its name and the specific arguments you want to give it"
   ]
  },
  {
   "cell_type": "markdown",
   "id": "1f181753-00d6-46b4-b920-5cf1cec25d3d",
   "metadata": {},
   "source": [
    "##### An example:"
   ]
  },
  {
   "cell_type": "code",
   "execution_count": null,
   "id": "f6b9b4d4-dc6d-41b7-acd7-3b3996f93e96",
   "metadata": {},
   "outputs": [],
   "source": [
    "def plus(a, b):\n",
    "    c = a + b\n",
    "    return c\n",
    "\n",
    "plus(5, 6)"
   ]
  },
  {
   "cell_type": "code",
   "execution_count": null,
   "id": "649a2801-210c-465c-98c1-f4cca0523cf2",
   "metadata": {},
   "outputs": [],
   "source": [
    "## Make a function that sums the digits from a to b\n"
   ]
  },
  {
   "cell_type": "markdown",
   "id": "b3f7df78-b026-4ee9-9a0d-169b145cb6e7",
   "metadata": {},
   "source": [
    "### 7) External Libraries"
   ]
  },
  {
   "cell_type": "markdown",
   "id": "e6fb3b23-772d-46c8-9db8-277c31267f77",
   "metadata": {},
   "source": [
    "#### Python is a vast landscape of user created code for very niche and general puposes. So, some things may not be\n",
    "#### in-built. To deal with this, and to get some in-built functionality, you will have to import libraries of code.\n",
    "#### These libraries are black boxes of code that simplify a lot of actions you may not want to write out but just use.\n",
    "#### To use a library, import it and understand the documentation and proceed to use it."
   ]
  },
  {
   "cell_type": "code",
   "execution_count": null,
   "id": "ab877ee1-a824-4824-b079-03cee87ef3d0",
   "metadata": {},
   "outputs": [],
   "source": [
    "## Importing syntax\n",
    "import numpy"
   ]
  },
  {
   "cell_type": "code",
   "execution_count": null,
   "id": "d8f94a50-eb07-45b5-967e-522739f5c66a",
   "metadata": {},
   "outputs": [],
   "source": [
    "## If you want to give a library a shorter name to call as you use it you can use this syntax:\n",
    "import numpy as np"
   ]
  },
  {
   "cell_type": "code",
   "execution_count": null,
   "id": "042d2fda-1bc5-4707-b48d-f0c3d3eda11d",
   "metadata": {},
   "outputs": [],
   "source": [
    "## If you want to import a specific part of a library, you can use this syntax:\n",
    "from numpy import random"
   ]
  },
  {
   "cell_type": "markdown",
   "id": "afe2c6c4-bf61-4fb8-aa26-5b374f5e79c1",
   "metadata": {},
   "source": [
    "### The End"
   ]
  }
 ],
 "metadata": {
  "kernelspec": {
   "display_name": "Python 3 (ipykernel)",
   "language": "python",
   "name": "python3"
  },
  "language_info": {
   "codemirror_mode": {
    "name": "ipython",
    "version": 3
   },
   "file_extension": ".py",
   "mimetype": "text/x-python",
   "name": "python",
   "nbconvert_exporter": "python",
   "pygments_lexer": "ipython3",
   "version": "3.9.10"
  }
 },
 "nbformat": 4,
 "nbformat_minor": 5
}
