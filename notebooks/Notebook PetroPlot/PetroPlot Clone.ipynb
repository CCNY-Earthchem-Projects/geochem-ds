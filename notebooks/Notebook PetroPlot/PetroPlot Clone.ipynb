{
 "cells": [
  {
   "cell_type": "markdown",
   "id": "bcbfc6bb-407e-47a9-b6b3-24fe0cbe3dcd",
   "metadata": {},
   "source": [
    "# PetroPlot Clone"
   ]
  },
  {
   "cell_type": "markdown",
   "id": "1f7535e1-7e27-4034-9927-160128c565ac",
   "metadata": {},
   "source": [
    "## Libraries needed to run this tool"
   ]
  },
  {
   "cell_type": "code",
   "execution_count": null,
   "id": "0c567690-800b-415f-9a6f-74b4ae767034",
   "metadata": {},
   "outputs": [],
   "source": [
    "import pandas as pd\n",
    "from matplotlib import pyplot as plt\n",
    "import seaborn as sns\n",
    "import numpy as np\n",
    "\n",
    "import geopandas\n",
    "\n",
    "from pyrolite.plot import pyroplot\n",
    "import pyrolite.data.Aitchison\n",
    "from pyrolite.util.plot.style import ternary_color\n",
    "from pyrolite.util.synthetic import normal_frame \n",
    "from pyrolite.util.classification import USDASoilTexture\n",
    "from pyrolite.util.plot.style import color_ternary_polygons_by_centroid\n",
    "\n",
    "import plotly.express as px"
   ]
  },
  {
   "cell_type": "markdown",
   "id": "10bde9ae-5aff-4c87-bb2e-521b2dc58021",
   "metadata": {},
   "source": [
    "## Data Entry and Initial Look"
   ]
  },
  {
   "cell_type": "code",
   "execution_count": null,
   "id": "183783bf-2493-4655-af38-a2b498c02cc3",
   "metadata": {},
   "outputs": [],
   "source": [
    "df = pd.read_csv('<Insert Name of csv file>', index_col= '<Index number of column with label names>')"
   ]
  },
  {
   "cell_type": "code",
   "execution_count": null,
   "id": "16f25296-2359-46a3-a8d0-bef963257c48",
   "metadata": {},
   "outputs": [],
   "source": [
    "df.head"
   ]
  },
  {
   "cell_type": "code",
   "execution_count": null,
   "id": "c428f699-552e-468a-bfdb-34c02a654744",
   "metadata": {},
   "outputs": [],
   "source": [
    "df.tail"
   ]
  },
  {
   "cell_type": "markdown",
   "id": "24c0ae1d-7f63-48c3-a2fc-620963006e58",
   "metadata": {},
   "source": [
    "### Do you want to fill in the NaN values?"
   ]
  },
  {
   "cell_type": "code",
   "execution_count": null,
   "id": "067ea245-cd45-4c86-9e1d-6d8a2e5cac11",
   "metadata": {},
   "outputs": [],
   "source": [
    "df = df.dropna(<'Value you want to replace the NaN with'>)"
   ]
  },
  {
   "cell_type": "markdown",
   "id": "ee6f22a8-08d0-4651-8fde-8e8af8c697ca",
   "metadata": {},
   "source": [
    "### Do you want to drop any particular rows?"
   ]
  },
  {
   "cell_type": "code",
   "execution_count": null,
   "id": "3debe83f-512f-4f50-a2b5-3d08d4abbc64",
   "metadata": {},
   "outputs": [],
   "source": [
    "label_list = ['<Names of rows you want to drop>']\n",
    "df = df.drop(labels= label_list, inplace=True, axis = '<Index number of column with label names>')"
   ]
  },
  {
   "cell_type": "markdown",
   "id": "5c53d259-566d-4529-a913-aa7d9094b1da",
   "metadata": {},
   "source": [
    "## Basic Stats"
   ]
  },
  {
   "cell_type": "markdown",
   "id": "f599f599-5382-4094-85de-d23a01eacdfb",
   "metadata": {},
   "source": [
    "### Getting the shape of the data frame"
   ]
  },
  {
   "cell_type": "code",
   "execution_count": null,
   "id": "07ee6c81-d10b-471f-baf0-96b194e1ea14",
   "metadata": {},
   "outputs": [],
   "source": [
    "df.shape"
   ]
  },
  {
   "cell_type": "markdown",
   "id": "c654ffad-1a28-474a-a735-b1f2d47fb480",
   "metadata": {},
   "source": [
    "### Getting descriptive statistics of the data frame"
   ]
  },
  {
   "cell_type": "code",
   "execution_count": null,
   "id": "aa85f776-69de-4971-b46b-f4f9e56dfe5a",
   "metadata": {},
   "outputs": [],
   "source": [
    "df.describe"
   ]
  },
  {
   "cell_type": "markdown",
   "id": "93e5a8aa-2538-4887-8a7f-45db73570145",
   "metadata": {},
   "source": [
    "### Specific statisics for a singular column"
   ]
  },
  {
   "cell_type": "code",
   "execution_count": null,
   "id": "26c963e2-d11b-4ed4-96cd-97d5550db42e",
   "metadata": {},
   "outputs": [],
   "source": [
    "count1 = df['<dataframe_column>'].count()\n",
    "print('count: ' + str(count1))\n",
    "\n",
    "mean1 = df['<dataframe_column>'].mean()\n",
    "print('mean: ' + str(mean1))\n",
    "\n",
    "std1 = df['<dataframe_column>'].std()\n",
    "print('std: ' + str(std1))\n",
    "\n",
    "min1 = df['<dataframe_column>'].min()\n",
    "print('min: ' + str(min1))\n",
    "\n",
    "quantile1 = df['<dataframe_column>'].quantile(q=0.25)\n",
    "print('25%: ' + str(quantile1))\n",
    "\n",
    "quantile2 = df['<dataframe_column>'].quantile(q=0.50)\n",
    "print('50%: ' + str(quantile2))\n",
    "\n",
    "quantile3 = df['<dataframe_column>'].quantile(q=0.75)\n",
    "print('75%: ' + str(quantile3))\n",
    "\n",
    "max1 = df['<dataframe_column>'].max()\n",
    "print('max: ' + str(max1))"
   ]
  },
  {
   "cell_type": "markdown",
   "id": "1e116f6e-35ba-4830-a1b6-c1a0ac65ae69",
   "metadata": {},
   "source": [
    "## Initial Pairplot for Exploration"
   ]
  },
  {
   "cell_type": "code",
   "execution_count": null,
   "id": "0a2fa5ea-29c3-413e-ac57-5c703fe03848",
   "metadata": {},
   "outputs": [],
   "source": [
    "sns.pairplot(df)"
   ]
  },
  {
   "cell_type": "markdown",
   "id": "9a454f45-5ffe-4463-86f7-2a4aada7f861",
   "metadata": {},
   "source": [
    "## Specific Plots"
   ]
  },
  {
   "cell_type": "markdown",
   "id": "99630fb1-a491-4314-85f7-97813595c2f2",
   "metadata": {},
   "source": [
    "### Scatter Plot"
   ]
  },
  {
   "cell_type": "code",
   "execution_count": null,
   "id": "f314a8ef-18ba-4c65-887d-1f34c77b1dd2",
   "metadata": {},
   "outputs": [],
   "source": [
    "sns.lmplot(x=\"<Column Name for X-Axis>\",y=\"<Column Name for Y-Axis>\", data=df, fit_reg=False)\n",
    "\n",
    "#plt.xlim(<Lower Bound for X-axis>, <Upper Bound for X-axis>) # Uncomment this if you want to change the bounds of the x-axis\n",
    "#plt.ylim(<Lower Bound for Y-axis>, <Upper Bound for Y-axis>) # Uncomment this if you want to change the bounds of the y-axis"
   ]
  },
  {
   "cell_type": "markdown",
   "id": "58947f54-e95d-4733-b748-6ce4fcfe543c",
   "metadata": {},
   "source": [
    "### Box and Whisker Plot"
   ]
  },
  {
   "cell_type": "code",
   "execution_count": null,
   "id": "6e110dd3-83da-4807-ae5a-3bf51b15cd02",
   "metadata": {},
   "outputs": [],
   "source": [
    "sns.boxplot(data=df)\n",
    "\n",
    "#plt.xlim(<Lower Bound for X-axis>, <Upper Bound for X-axis>) # Uncomment this if you want to change the bounds of the x-axis\n",
    "#plt.ylim(<Lower Bound for Y-axis>, <Upper Bound for Y-axis>) # Uncomment this if you want to change the bounds of the y-axis"
   ]
  },
  {
   "cell_type": "markdown",
   "id": "d3aceab5-830c-49b3-a884-8e84a3f9ba74",
   "metadata": {},
   "source": [
    "### Bar Graph"
   ]
  },
  {
   "cell_type": "code",
   "execution_count": null,
   "id": "164ff063-c56a-44cc-b062-8540db8cd12e",
   "metadata": {},
   "outputs": [],
   "source": [
    "sns.barplot(x=\"<Column Name for X-Axis>\", y=\"<Column Name for Y-Axis>\", data=df)\n",
    "\n",
    "#plt.xlim(<Lower Bound for X-axis>, <Upper Bound for X-axis>) # Uncomment this if you want to change the bounds of the x-axis\n",
    "#plt.ylim(<Lower Bound for Y-axis>, <Upper Bound for Y-axis>) # Uncomment this if you want to change the bounds of the y-axis"
   ]
  },
  {
   "cell_type": "markdown",
   "id": "85d70357-b154-42e8-8a7f-af9d4c5160d6",
   "metadata": {},
   "source": [
    "### Pie Plot"
   ]
  },
  {
   "cell_type": "code",
   "execution_count": null,
   "id": "9456e1a7-33b1-4994-ae3f-e586bac416a0",
   "metadata": {},
   "outputs": [],
   "source": [
    "keys = [\"<Names of the keys you want to have in the pie chart>\"]\n",
    "plt.pie(df, labels = keys)\n",
    "\n",
    "plt.title(\"<Title of Pie Chart>\")\n",
    "plt.show()"
   ]
  },
  {
   "cell_type": "markdown",
   "id": "2e5193bf-7ce6-44f2-81e4-a7f9a607a9a3",
   "metadata": {},
   "source": [
    "### Violin Plot"
   ]
  },
  {
   "cell_type": "code",
   "execution_count": null,
   "id": "e659ce6c-9eaa-4f0a-b3f0-cfb42f249262",
   "metadata": {},
   "outputs": [],
   "source": [
    "plt.figure(figsize=(12,8)) # Use matplot lib to set plot dimensions\n",
    "sns.violinplot(x=\"<Column Name for X-Axis>\", y=\"<Column Name for Y-Axis>\", data=df)"
   ]
  },
  {
   "cell_type": "markdown",
   "id": "5e547f4b-de88-417e-a4ba-cf9fb807b491",
   "metadata": {},
   "source": [
    "### Geometric Data Visualization"
   ]
  },
  {
   "cell_type": "code",
   "execution_count": null,
   "id": "04f6caa6-c67d-4dc0-af77-a88982c46f8f",
   "metadata": {},
   "outputs": [],
   "source": [
    "gdf = geopandas.read_file(<Name of GeoJSON file>)"
   ]
  },
  {
   "cell_type": "code",
   "execution_count": null,
   "id": "0a5d48d7-cbaa-4db0-82bc-57e4ef1f2017",
   "metadata": {},
   "outputs": [],
   "source": [
    "gdf.plot(\"<Name of plot>\", legend=True)"
   ]
  },
  {
   "cell_type": "code",
   "execution_count": null,
   "id": "32f749c5-f9b9-419d-b38a-392aa2c49447",
   "metadata": {},
   "outputs": [],
   "source": [
    "gdf.explore(\"<Name of plot>\", legend=False)"
   ]
  },
  {
   "cell_type": "markdown",
   "id": "edb280e1-94dc-4ea1-a3bc-9d35fab1c309",
   "metadata": {},
   "source": [
    "### Triangle Scatter Plot"
   ]
  },
  {
   "cell_type": "code",
   "execution_count": null,
   "id": "6832c226-6dd3-4255-b8c6-cc34226a43c6",
   "metadata": {},
   "outputs": [],
   "source": [
    "ax = df.loc[:, [\"<Names of three labels for each axis>\"]].pyroplot.scatter()\n",
    "plt.show()"
   ]
  },
  {
   "cell_type": "markdown",
   "id": "36526624-5ed7-4cbe-8c2f-fe0135350e92",
   "metadata": {},
   "source": [
    "### Spidergram Plot"
   ]
  },
  {
   "cell_type": "code",
   "execution_count": null,
   "id": "541111e1-4c4c-4f07-910f-5af1da83f1a3",
   "metadata": {},
   "outputs": [],
   "source": [
    "fig = px.parallel_coordinates(df, color=\"species_id\", labels={\"<Key: Value pair of color bar on the side>\",\n",
    "                \"<Comma separated lists of each Key: Value pair of each vertical point>\"},\n",
    "                             color_continuous_scale=px.colors.diverging.Tealrose, color_continuous_midpoint=2)\n",
    "fig.show()"
   ]
  },
  {
   "cell_type": "markdown",
   "id": "aeb9bf3b-c819-4068-a6fd-cb9381e5def8",
   "metadata": {},
   "source": [
    "### Ternary Color Systems Plot"
   ]
  },
  {
   "cell_type": "code",
   "execution_count": null,
   "id": "f9abf06d-4064-4968-a93c-9a9b2fc88445",
   "metadata": {},
   "outputs": [],
   "source": [
    "df = df( # Creating a dataframe to showcase the plot\n",
    "    columns=[\"<Names of three labels for each axis>\"],\n",
    "    size=100,\n",
    "    seed=42,\n",
    "    cov=np.array([[0.8, 0.3], [0.3, 0.8]]),\n",
    ")\n",
    "\n",
    "colors = ternary_color(df) \n",
    "ax = df.pyroplot.scatter(c=colors)\n",
    "plt.show()"
   ]
  },
  {
   "cell_type": "markdown",
   "id": "0a5c93dd-4181-466f-a866-065eade44e0e",
   "metadata": {},
   "source": [
    "### More to come..."
   ]
  }
 ],
 "metadata": {
  "kernelspec": {
   "display_name": "Python 3 (ipykernel)",
   "language": "python",
   "name": "python3"
  },
  "language_info": {
   "codemirror_mode": {
    "name": "ipython",
    "version": 3
   },
   "file_extension": ".py",
   "mimetype": "text/x-python",
   "name": "python",
   "nbconvert_exporter": "python",
   "pygments_lexer": "ipython3",
   "version": "3.9.10"
  }
 },
 "nbformat": 4,
 "nbformat_minor": 5
}
